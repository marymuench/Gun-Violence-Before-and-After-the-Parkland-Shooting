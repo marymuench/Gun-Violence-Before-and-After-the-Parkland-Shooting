{
  "cells": [
    {
      "cell_type": "markdown",
      "metadata": {
        "id": "view-in-github",
        "colab_type": "text"
      },
      "source": [
        "<a href=\"https://colab.research.google.com/github/marymuench/Gun-Violence-Before-and-After-the-Parkland-Shooting/blob/main/MaryMuench_Data_Wrangling_Mod_Assignment_2.ipynb\" target=\"_parent\"><img src=\"https://colab.research.google.com/assets/colab-badge.svg\" alt=\"Open In Colab\"/></a>"
      ]
    },
    {
      "cell_type": "markdown",
      "metadata": {
        "id": "hgae_vxpBRH2"
      },
      "source": [
        "# Data Wrangling Module Assignment 2\n",
        "CW: Gun Violence"
      ]
    },
    {
      "cell_type": "code",
      "execution_count": null,
      "metadata": {
        "id": "TkU2-t7-DfhE"
      },
      "outputs": [],
      "source": [
        "import pandas as pd\n",
        "import numpy as np\n",
        "import matplotlib.pyplot as plt\n",
        "import seaborn as sns\n",
        "from scipy.stats import ttest_ind\n",
        "from statistics import mean\n",
        "import matplotlib.patches as mpatches"
      ]
    },
    {
      "cell_type": "markdown",
      "metadata": {
        "id": "uCwJkmD2BU6I"
      },
      "source": [
        "**Question:** How did gun violence change before and after the Parkland shooting?\n",
        "\n",
        "On February 14, 2018, a gunman opened fire on Marjory Stoneman Douglas High School in Parkland, Florida, killing 17 people and injuring 17 others. This tragic event, titled 'the Parkland shooting' for the remainder of this report, was a turning point in American history, marking the deadliest school schooting in the United States. While this school shooting was unfortunately far from the first deadly event in American schools, it sparked many debates and protests about gun control and the role of guns and the Second Amendment in our society. This report aims to analyze gun violence data from the months preceding and following the Parkland shooting to understand if this particularly violent event had any bearing on past or future incidents of gun violence. \n",
        "\n",
        "Please note: this topic contains a lot of information and would be very interesting to investigate at a higher, more extensive level. Due to time constraints and the parameters of this assignment, this question will only be investigated to a limited extent. "
      ]
    },
    {
      "cell_type": "markdown",
      "metadata": {
        "id": "IxENVH8mCovD"
      },
      "source": [
        "# Read in Data\n",
        "\n",
        "Because of the way the gun violence data is structured, the files for each month must be read in separately and then concatenated. The files for January 2018, February 2018, and March 2018 will be read in into separate Pandas dataframes. Unfortunately, the master GitHub repository containing all gun violence data lacks files for the months of 2018 following March, so only these three months will be analyzed. "
      ]
    },
    {
      "cell_type": "code",
      "execution_count": null,
      "metadata": {
        "id": "OGINxK-h0304"
      },
      "outputs": [],
      "source": [
        "df0118 = pd.read_csv('https://raw.githubusercontent.com/jamesqo/gun-violence-data/master/intermediate/stage2.01.2018.csv')"
      ]
    },
    {
      "cell_type": "code",
      "execution_count": null,
      "metadata": {
        "id": "lRR7n8tw0-dH"
      },
      "outputs": [],
      "source": [
        "df0218 = pd.read_csv('https://raw.githubusercontent.com/jamesqo/gun-violence-data/master/intermediate/stage2.02.2018.csv')\n"
      ]
    },
    {
      "cell_type": "code",
      "execution_count": null,
      "metadata": {
        "colab": {
          "base_uri": "https://localhost:8080/"
        },
        "id": "VuTJWsFKDm7R",
        "outputId": "6b94d202-d5aa-44df-f775-ba6aa3bb4410"
      },
      "outputs": [
        {
          "output_type": "execute_result",
          "data": {
            "text/plain": [
              "incident_id                                                              1049217\n",
              "date                                                                  2018-02-14\n",
              "state                                                                    Florida\n",
              "city_or_county                                          Pompano Beach (Parkland)\n",
              "address                                                      5901 Pine Island Rd\n",
              "n_killed                                                                      17\n",
              "n_injured                                                                     17\n",
              "incident_url                   http://www.gunviolencearchive.org/incident/104...\n",
              "source_url                     http://www.orlandosentinel.com/news/fl-florida...\n",
              "incident_url_fields_missing                                                False\n",
              "congressional_district                                                      22.0\n",
              "gun_stolen                                          0::Not-stolen||1::Not-stolen\n",
              "gun_type                                          0::223 Rem [AR-15]||1::Handgun\n",
              "incident_characteristics       Shot - Wounded/Injured||Shot - Dead (murder, a...\n",
              "latitude                                                                 26.3045\n",
              "location_description                        Marjory Stoneman Douglas High School\n",
              "longitude                                                               -80.2694\n",
              "n_guns_involved                                                              2.0\n",
              "notes                          Freshman Building, legal S&W M&P 15 and multip...\n",
              "participant_age                0::35||1::14||2::17||3::37||4::14||5::15||6::4...\n",
              "participant_age_group          0::Adult 18+||1::Teen 12-17||2::Teen 12-17||3:...\n",
              "participant_gender             0::Male||1::Male||2::Male||3::Male||4::Female|...\n",
              "participant_name               0::Scott Beigel||1::Martin Duque Anguiano||2::...\n",
              "participant_relationship                                                     NaN\n",
              "participant_status             0::Killed||1::Killed||2::Killed||3::Killed||4:...\n",
              "participant_type               0::Victim||1::Victim||2::Victim||3::Victim||4:...\n",
              "sources                        http://cbs12.com/news/local/shooting-at-marjor...\n",
              "state_house_district                                                        96.0\n",
              "state_senate_district                                                       29.0\n",
              "Name: 2912, dtype: object"
            ]
          },
          "metadata": {},
          "execution_count": 159
        }
      ],
      "source": [
        "# After some searching in the data, it was found that the Parkland Shooting is found\n",
        "# at index 2912. \n",
        "df0218.iloc[2912]"
      ]
    },
    {
      "cell_type": "markdown",
      "metadata": {
        "id": "KYqZS3vW-cK_"
      },
      "source": [
        "I am going to drop the entry for the Parkland Shooting (row #2912). This will make the visualizations easier to digest due to the extremities of this event."
      ]
    },
    {
      "cell_type": "code",
      "execution_count": null,
      "metadata": {
        "id": "J0ZaIbaL-LvU"
      },
      "outputs": [],
      "source": [
        "df0218 = df0218.drop(2912, axis=0)"
      ]
    },
    {
      "cell_type": "code",
      "execution_count": null,
      "metadata": {
        "id": "WdHls0M_5ZHg"
      },
      "outputs": [],
      "source": [
        "df0318 = pd.read_csv('https://raw.githubusercontent.com/jamesqo/gun-violence-data/master/intermediate/stage2.03.2018.csv')"
      ]
    },
    {
      "cell_type": "code",
      "execution_count": null,
      "metadata": {
        "id": "g3nxbjyn0__m"
      },
      "outputs": [],
      "source": [
        "full_gv = pd.concat([df0118,df0218,df0318]) "
      ]
    },
    {
      "cell_type": "markdown",
      "metadata": {
        "id": "aIO4PcCkLWIF"
      },
      "source": [
        "# Data Cleaning\n",
        "Check the packaging, check the top and bottom, check the \"n\"s, reshape into a cleaner format, handle missing data, and filter/relabel bad data"
      ]
    },
    {
      "cell_type": "markdown",
      "metadata": {
        "id": "K8kPQjdiECv3"
      },
      "source": [
        "**Check the packaging**"
      ]
    },
    {
      "cell_type": "code",
      "execution_count": null,
      "metadata": {
        "colab": {
          "base_uri": "https://localhost:8080/"
        },
        "id": "88WCEvp3LokE",
        "outputId": "d974c8e4-233d-4a8c-f39e-5a8db9e98724"
      },
      "outputs": [
        {
          "output_type": "execute_result",
          "data": {
            "text/plain": [
              "(13801, 29)"
            ]
          },
          "metadata": {},
          "execution_count": 163
        }
      ],
      "source": [
        "full_gv.shape"
      ]
    },
    {
      "cell_type": "markdown",
      "metadata": {
        "id": "2m6wWg63Lvz7"
      },
      "source": [
        "This means there are 13801 incidents of gun violence between January 1, 2018 and March 31, 2018, not including the Parkland shooting. The dataframe contains 29 columns of information. We know from the README file of the GitHub Repo that these columns are incident ID, date, state, city/county, address, number killed, number injured, a link to details of the incident, a link to a news story about the incident, a column containing false values about if urls are missing, the congressional district, a dictionary with information about if guns involved were stolen, a dictionary containing information about the types of guns involved, characteristics about the incident, latitude, location description, longitude, number of funs involved, notes, a number of dictionaries containing information about the participants (namely, age, age group, gender, name, relationships, status, type), sources, state house district, and state senate district. \n",
        "\n",
        "Clearly, this dataframe contains a lot of different information about the incident. Many of the columns are superflouous to the question being investigated, and many contain unknown or missing values that muddle the dataset. \n",
        "\n",
        "The column titles appear to be well-named, so I will not change the names of any of them.\n",
        "\n",
        "First, I am going to remove unncessary columns, such as some of the urls, latitude, longitude, notes, congressional districts, etc. These columns contain interesting information, but I have decided to drop them because I am only interested in specifics of certain incidents and many of them contain unknown values. I am also not at this time investigating legislature related to gun violence as a result of the Parkland shooting, so I decided to drop this data, however, this would be a very interesting further investigation of this topic. "
      ]
    },
    {
      "cell_type": "code",
      "execution_count": null,
      "metadata": {
        "colab": {
          "base_uri": "https://localhost:8080/",
          "height": 696
        },
        "id": "BRWz4mzLOfaZ",
        "outputId": "85fb4dbf-253d-4c47-da5d-c7db97da99f3"
      },
      "outputs": [
        {
          "output_type": "execute_result",
          "data": {
            "text/html": [
              "\n",
              "  <div id=\"df-e0e911a0-9a31-496e-95ba-14ab8a0effd2\">\n",
              "    <div class=\"colab-df-container\">\n",
              "      <div>\n",
              "<style scoped>\n",
              "    .dataframe tbody tr th:only-of-type {\n",
              "        vertical-align: middle;\n",
              "    }\n",
              "\n",
              "    .dataframe tbody tr th {\n",
              "        vertical-align: top;\n",
              "    }\n",
              "\n",
              "    .dataframe thead th {\n",
              "        text-align: right;\n",
              "    }\n",
              "</style>\n",
              "<table border=\"1\" class=\"dataframe\">\n",
              "  <thead>\n",
              "    <tr style=\"text-align: right;\">\n",
              "      <th></th>\n",
              "      <th>incident_id</th>\n",
              "      <th>date</th>\n",
              "      <th>state</th>\n",
              "      <th>city_or_county</th>\n",
              "      <th>n_killed</th>\n",
              "      <th>n_injured</th>\n",
              "      <th>gun_stolen</th>\n",
              "      <th>gun_type</th>\n",
              "      <th>location_description</th>\n",
              "      <th>n_guns_involved</th>\n",
              "      <th>participant_age</th>\n",
              "      <th>participant_age_group</th>\n",
              "      <th>participant_gender</th>\n",
              "      <th>participant_name</th>\n",
              "      <th>participant_status</th>\n",
              "      <th>participant_type</th>\n",
              "    </tr>\n",
              "  </thead>\n",
              "  <tbody>\n",
              "    <tr>\n",
              "      <th>0</th>\n",
              "      <td>1024565</td>\n",
              "      <td>2018-01-10</td>\n",
              "      <td>California</td>\n",
              "      <td>El Cajon</td>\n",
              "      <td>0</td>\n",
              "      <td>0</td>\n",
              "      <td>0::Unknown</td>\n",
              "      <td>0::Unknown</td>\n",
              "      <td>Granite Hills High School</td>\n",
              "      <td>1.0</td>\n",
              "      <td>NaN</td>\n",
              "      <td>0::Adult 18+</td>\n",
              "      <td>0::Male</td>\n",
              "      <td>NaN</td>\n",
              "      <td>0::Unharmed, Arrested</td>\n",
              "      <td>0::Subject-Suspect</td>\n",
              "    </tr>\n",
              "    <tr>\n",
              "      <th>1</th>\n",
              "      <td>1025324</td>\n",
              "      <td>2018-01-10</td>\n",
              "      <td>Ohio</td>\n",
              "      <td>Toledo</td>\n",
              "      <td>0</td>\n",
              "      <td>1</td>\n",
              "      <td>0::Unknown</td>\n",
              "      <td>0::Unknown</td>\n",
              "      <td>NaN</td>\n",
              "      <td>1.0</td>\n",
              "      <td>NaN</td>\n",
              "      <td>0::Adult 18+</td>\n",
              "      <td>0::Male</td>\n",
              "      <td>0::Richard Tucker</td>\n",
              "      <td>0::Injured</td>\n",
              "      <td>0::Victim</td>\n",
              "    </tr>\n",
              "    <tr>\n",
              "      <th>2</th>\n",
              "      <td>1025382</td>\n",
              "      <td>2018-01-10</td>\n",
              "      <td>Kentucky</td>\n",
              "      <td>Louisville</td>\n",
              "      <td>0</td>\n",
              "      <td>0</td>\n",
              "      <td>0::Unknown</td>\n",
              "      <td>0::Unknown</td>\n",
              "      <td>NaN</td>\n",
              "      <td>1.0</td>\n",
              "      <td>0::23||1::23||2::23||3::20</td>\n",
              "      <td>0::Adult 18+||1::Adult 18+||2::Adult 18+||3::A...</td>\n",
              "      <td>0::Male||1::Male||2::Male||3::Male</td>\n",
              "      <td>0::Jacob Holman||1::Jahi C. Hall||2::Colton D....</td>\n",
              "      <td>0::Unharmed, Arrested||1::Unharmed, Arrested||...</td>\n",
              "      <td>0::Subject-Suspect||1::Subject-Suspect||2::Sub...</td>\n",
              "    </tr>\n",
              "    <tr>\n",
              "      <th>3</th>\n",
              "      <td>1025397</td>\n",
              "      <td>2018-01-10</td>\n",
              "      <td>Massachusetts</td>\n",
              "      <td>New Bedford</td>\n",
              "      <td>0</td>\n",
              "      <td>0</td>\n",
              "      <td>0::Unknown</td>\n",
              "      <td>0::Unknown</td>\n",
              "      <td>NaN</td>\n",
              "      <td>1.0</td>\n",
              "      <td>NaN</td>\n",
              "      <td>NaN</td>\n",
              "      <td>NaN</td>\n",
              "      <td>NaN</td>\n",
              "      <td>NaN</td>\n",
              "      <td>NaN</td>\n",
              "    </tr>\n",
              "    <tr>\n",
              "      <th>4</th>\n",
              "      <td>1059686</td>\n",
              "      <td>2018-01-10</td>\n",
              "      <td>Maine</td>\n",
              "      <td>Belfast</td>\n",
              "      <td>0</td>\n",
              "      <td>0</td>\n",
              "      <td>0::Unknown</td>\n",
              "      <td>0::Rifle</td>\n",
              "      <td>NaN</td>\n",
              "      <td>1.0</td>\n",
              "      <td>0::57</td>\n",
              "      <td>0::Adult 18+</td>\n",
              "      <td>0::Female</td>\n",
              "      <td>0::Laurie Allen</td>\n",
              "      <td>0::Unharmed, Arrested</td>\n",
              "      <td>0::Subject-Suspect</td>\n",
              "    </tr>\n",
              "    <tr>\n",
              "      <th>...</th>\n",
              "      <td>...</td>\n",
              "      <td>...</td>\n",
              "      <td>...</td>\n",
              "      <td>...</td>\n",
              "      <td>...</td>\n",
              "      <td>...</td>\n",
              "      <td>...</td>\n",
              "      <td>...</td>\n",
              "      <td>...</td>\n",
              "      <td>...</td>\n",
              "      <td>...</td>\n",
              "      <td>...</td>\n",
              "      <td>...</td>\n",
              "      <td>...</td>\n",
              "      <td>...</td>\n",
              "      <td>...</td>\n",
              "    </tr>\n",
              "    <tr>\n",
              "      <th>4747</th>\n",
              "      <td>1065829</td>\n",
              "      <td>2018-03-09</td>\n",
              "      <td>Florida</td>\n",
              "      <td>Lehigh Acres</td>\n",
              "      <td>0</td>\n",
              "      <td>0</td>\n",
              "      <td>0::Unknown</td>\n",
              "      <td>0::Unknown</td>\n",
              "      <td>NaN</td>\n",
              "      <td>1.0</td>\n",
              "      <td>0::20</td>\n",
              "      <td>0::Adult 18+</td>\n",
              "      <td>0::Male</td>\n",
              "      <td>0::Montrel Johnson</td>\n",
              "      <td>0::Unharmed, Arrested</td>\n",
              "      <td>0::Subject-Suspect</td>\n",
              "    </tr>\n",
              "    <tr>\n",
              "      <th>4748</th>\n",
              "      <td>1066571</td>\n",
              "      <td>2018-03-09</td>\n",
              "      <td>Maryland</td>\n",
              "      <td>Baltimore</td>\n",
              "      <td>1</td>\n",
              "      <td>0</td>\n",
              "      <td>0::Unknown</td>\n",
              "      <td>0::Unknown</td>\n",
              "      <td>NaN</td>\n",
              "      <td>1.0</td>\n",
              "      <td>0::30</td>\n",
              "      <td>0::Adult 18+</td>\n",
              "      <td>0::Male</td>\n",
              "      <td>0::Ronald Preston</td>\n",
              "      <td>0::Killed</td>\n",
              "      <td>0::Victim</td>\n",
              "    </tr>\n",
              "    <tr>\n",
              "      <th>4749</th>\n",
              "      <td>1066492</td>\n",
              "      <td>2018-03-09</td>\n",
              "      <td>Illinois</td>\n",
              "      <td>Chicago</td>\n",
              "      <td>0</td>\n",
              "      <td>1</td>\n",
              "      <td>0::Unknown</td>\n",
              "      <td>0::Unknown</td>\n",
              "      <td>NaN</td>\n",
              "      <td>1.0</td>\n",
              "      <td>0::17</td>\n",
              "      <td>0::Teen 12-17</td>\n",
              "      <td>0::Male||1::Male</td>\n",
              "      <td>NaN</td>\n",
              "      <td>0::Injured||1::Unharmed</td>\n",
              "      <td>0::Victim||1::Subject-Suspect</td>\n",
              "    </tr>\n",
              "    <tr>\n",
              "      <th>4750</th>\n",
              "      <td>1065756</td>\n",
              "      <td>2018-03-09</td>\n",
              "      <td>Texas</td>\n",
              "      <td>Aledo</td>\n",
              "      <td>2</td>\n",
              "      <td>0</td>\n",
              "      <td>0::Unknown</td>\n",
              "      <td>0::Unknown</td>\n",
              "      <td>Temptations Cabaret</td>\n",
              "      <td>1.0</td>\n",
              "      <td>0::32||2::24</td>\n",
              "      <td>0::Adult 18+||1::Adult 18+||2::Adult 18+</td>\n",
              "      <td>0::Male||2::Male</td>\n",
              "      <td>0::Julian Marin||2::Treveon Wilson</td>\n",
              "      <td>0::Killed||1::Killed||2::Unharmed, Arrested</td>\n",
              "      <td>0::Victim||1::Victim||2::Subject-Suspect</td>\n",
              "    </tr>\n",
              "    <tr>\n",
              "      <th>4751</th>\n",
              "      <td>1069938</td>\n",
              "      <td>2018-03-09</td>\n",
              "      <td>Maryland</td>\n",
              "      <td>Bryans Road</td>\n",
              "      <td>0</td>\n",
              "      <td>0</td>\n",
              "      <td>0::Stolen</td>\n",
              "      <td>0::Handgun</td>\n",
              "      <td>NaN</td>\n",
              "      <td>1.0</td>\n",
              "      <td>0::24</td>\n",
              "      <td>0::Adult 18+</td>\n",
              "      <td>0::Male</td>\n",
              "      <td>0::Dominic Joseph Cambridge</td>\n",
              "      <td>0::Unharmed, Arrested</td>\n",
              "      <td>0::Subject-Suspect</td>\n",
              "    </tr>\n",
              "  </tbody>\n",
              "</table>\n",
              "<p>13801 rows × 16 columns</p>\n",
              "</div>\n",
              "      <button class=\"colab-df-convert\" onclick=\"convertToInteractive('df-e0e911a0-9a31-496e-95ba-14ab8a0effd2')\"\n",
              "              title=\"Convert this dataframe to an interactive table.\"\n",
              "              style=\"display:none;\">\n",
              "        \n",
              "  <svg xmlns=\"http://www.w3.org/2000/svg\" height=\"24px\"viewBox=\"0 0 24 24\"\n",
              "       width=\"24px\">\n",
              "    <path d=\"M0 0h24v24H0V0z\" fill=\"none\"/>\n",
              "    <path d=\"M18.56 5.44l.94 2.06.94-2.06 2.06-.94-2.06-.94-.94-2.06-.94 2.06-2.06.94zm-11 1L8.5 8.5l.94-2.06 2.06-.94-2.06-.94L8.5 2.5l-.94 2.06-2.06.94zm10 10l.94 2.06.94-2.06 2.06-.94-2.06-.94-.94-2.06-.94 2.06-2.06.94z\"/><path d=\"M17.41 7.96l-1.37-1.37c-.4-.4-.92-.59-1.43-.59-.52 0-1.04.2-1.43.59L10.3 9.45l-7.72 7.72c-.78.78-.78 2.05 0 2.83L4 21.41c.39.39.9.59 1.41.59.51 0 1.02-.2 1.41-.59l7.78-7.78 2.81-2.81c.8-.78.8-2.07 0-2.86zM5.41 20L4 18.59l7.72-7.72 1.47 1.35L5.41 20z\"/>\n",
              "  </svg>\n",
              "      </button>\n",
              "      \n",
              "  <style>\n",
              "    .colab-df-container {\n",
              "      display:flex;\n",
              "      flex-wrap:wrap;\n",
              "      gap: 12px;\n",
              "    }\n",
              "\n",
              "    .colab-df-convert {\n",
              "      background-color: #E8F0FE;\n",
              "      border: none;\n",
              "      border-radius: 50%;\n",
              "      cursor: pointer;\n",
              "      display: none;\n",
              "      fill: #1967D2;\n",
              "      height: 32px;\n",
              "      padding: 0 0 0 0;\n",
              "      width: 32px;\n",
              "    }\n",
              "\n",
              "    .colab-df-convert:hover {\n",
              "      background-color: #E2EBFA;\n",
              "      box-shadow: 0px 1px 2px rgba(60, 64, 67, 0.3), 0px 1px 3px 1px rgba(60, 64, 67, 0.15);\n",
              "      fill: #174EA6;\n",
              "    }\n",
              "\n",
              "    [theme=dark] .colab-df-convert {\n",
              "      background-color: #3B4455;\n",
              "      fill: #D2E3FC;\n",
              "    }\n",
              "\n",
              "    [theme=dark] .colab-df-convert:hover {\n",
              "      background-color: #434B5C;\n",
              "      box-shadow: 0px 1px 3px 1px rgba(0, 0, 0, 0.15);\n",
              "      filter: drop-shadow(0px 1px 2px rgba(0, 0, 0, 0.3));\n",
              "      fill: #FFFFFF;\n",
              "    }\n",
              "  </style>\n",
              "\n",
              "      <script>\n",
              "        const buttonEl =\n",
              "          document.querySelector('#df-e0e911a0-9a31-496e-95ba-14ab8a0effd2 button.colab-df-convert');\n",
              "        buttonEl.style.display =\n",
              "          google.colab.kernel.accessAllowed ? 'block' : 'none';\n",
              "\n",
              "        async function convertToInteractive(key) {\n",
              "          const element = document.querySelector('#df-e0e911a0-9a31-496e-95ba-14ab8a0effd2');\n",
              "          const dataTable =\n",
              "            await google.colab.kernel.invokeFunction('convertToInteractive',\n",
              "                                                     [key], {});\n",
              "          if (!dataTable) return;\n",
              "\n",
              "          const docLinkHtml = 'Like what you see? Visit the ' +\n",
              "            '<a target=\"_blank\" href=https://colab.research.google.com/notebooks/data_table.ipynb>data table notebook</a>'\n",
              "            + ' to learn more about interactive tables.';\n",
              "          element.innerHTML = '';\n",
              "          dataTable['output_type'] = 'display_data';\n",
              "          await google.colab.output.renderOutput(dataTable, element);\n",
              "          const docLink = document.createElement('div');\n",
              "          docLink.innerHTML = docLinkHtml;\n",
              "          element.appendChild(docLink);\n",
              "        }\n",
              "      </script>\n",
              "    </div>\n",
              "  </div>\n",
              "  "
            ],
            "text/plain": [
              "      incident_id  ...                                   participant_type\n",
              "0         1024565  ...                                 0::Subject-Suspect\n",
              "1         1025324  ...                                          0::Victim\n",
              "2         1025382  ...  0::Subject-Suspect||1::Subject-Suspect||2::Sub...\n",
              "3         1025397  ...                                                NaN\n",
              "4         1059686  ...                                 0::Subject-Suspect\n",
              "...           ...  ...                                                ...\n",
              "4747      1065829  ...                                 0::Subject-Suspect\n",
              "4748      1066571  ...                                          0::Victim\n",
              "4749      1066492  ...                      0::Victim||1::Subject-Suspect\n",
              "4750      1065756  ...           0::Victim||1::Victim||2::Subject-Suspect\n",
              "4751      1069938  ...                                 0::Subject-Suspect\n",
              "\n",
              "[13801 rows x 16 columns]"
            ]
          },
          "metadata": {},
          "execution_count": 164
        }
      ],
      "source": [
        "full_gv = full_gv.drop(columns=['address', 'incident_url', 'source_url', 'incident_url_fields_missing', 'congressional_district', \n",
        "                           'incident_characteristics', 'latitude','longitude','notes','sources', 'state_house_district', 'state_senate_district', 'participant_relationship'])\n",
        "\n",
        "full_gv"
      ]
    },
    {
      "cell_type": "markdown",
      "metadata": {
        "id": "sK7_cABGSVYL"
      },
      "source": [
        "Despite superfluous columns being removed, this dataframe still has many structural issues that impact the interpretability and flow of the dataframe. For instance, many columns contain dictionaries holding relationships of an ID to more information. This is a design flaw and makes the data difficult to read and parse through. To improve this issue, I attempted to put the information about participants into a new dataframe with a stacked index. View the write up for a holistic explanation of the challenges regarding this problem."
      ]
    },
    {
      "cell_type": "code",
      "execution_count": null,
      "metadata": {
        "colab": {
          "base_uri": "https://localhost:8080/",
          "height": 467
        },
        "id": "7Uj8EjoSSUDm",
        "outputId": "f09e8791-5f51-4a33-b335-29405de96bc2"
      },
      "outputs": [
        {
          "output_type": "execute_result",
          "data": {
            "text/html": [
              "\n",
              "  <div id=\"df-5238fa2c-a557-425d-813d-7601eb680a21\">\n",
              "    <div class=\"colab-df-container\">\n",
              "      <div>\n",
              "<style scoped>\n",
              "    .dataframe tbody tr th:only-of-type {\n",
              "        vertical-align: middle;\n",
              "    }\n",
              "\n",
              "    .dataframe tbody tr th {\n",
              "        vertical-align: top;\n",
              "    }\n",
              "\n",
              "    .dataframe thead th {\n",
              "        text-align: right;\n",
              "    }\n",
              "</style>\n",
              "<table border=\"1\" class=\"dataframe\">\n",
              "  <thead>\n",
              "    <tr style=\"text-align: right;\">\n",
              "      <th></th>\n",
              "      <th>incident_id</th>\n",
              "      <th>participant_type</th>\n",
              "      <th>participant_age</th>\n",
              "      <th>participant_age_group</th>\n",
              "      <th>participant_gender</th>\n",
              "      <th>participant_status</th>\n",
              "    </tr>\n",
              "  </thead>\n",
              "  <tbody>\n",
              "    <tr>\n",
              "      <th>0</th>\n",
              "      <td>1024565</td>\n",
              "      <td>0::Subject-Suspect</td>\n",
              "      <td>NaN</td>\n",
              "      <td>0::Adult 18+</td>\n",
              "      <td>0::Male</td>\n",
              "      <td>0::Unharmed, Arrested</td>\n",
              "    </tr>\n",
              "    <tr>\n",
              "      <th>1</th>\n",
              "      <td>1025324</td>\n",
              "      <td>0::Victim</td>\n",
              "      <td>NaN</td>\n",
              "      <td>0::Adult 18+</td>\n",
              "      <td>0::Male</td>\n",
              "      <td>0::Injured</td>\n",
              "    </tr>\n",
              "    <tr>\n",
              "      <th>2</th>\n",
              "      <td>1025382</td>\n",
              "      <td>0::Subject-Suspect||1::Subject-Suspect||2::Sub...</td>\n",
              "      <td>0::23||1::23||2::23||3::20</td>\n",
              "      <td>0::Adult 18+||1::Adult 18+||2::Adult 18+||3::A...</td>\n",
              "      <td>0::Male||1::Male||2::Male||3::Male</td>\n",
              "      <td>0::Unharmed, Arrested||1::Unharmed, Arrested||...</td>\n",
              "    </tr>\n",
              "    <tr>\n",
              "      <th>3</th>\n",
              "      <td>1025397</td>\n",
              "      <td>NaN</td>\n",
              "      <td>NaN</td>\n",
              "      <td>NaN</td>\n",
              "      <td>NaN</td>\n",
              "      <td>NaN</td>\n",
              "    </tr>\n",
              "    <tr>\n",
              "      <th>4</th>\n",
              "      <td>1059686</td>\n",
              "      <td>0::Subject-Suspect</td>\n",
              "      <td>0::57</td>\n",
              "      <td>0::Adult 18+</td>\n",
              "      <td>0::Female</td>\n",
              "      <td>0::Unharmed, Arrested</td>\n",
              "    </tr>\n",
              "    <tr>\n",
              "      <th>...</th>\n",
              "      <td>...</td>\n",
              "      <td>...</td>\n",
              "      <td>...</td>\n",
              "      <td>...</td>\n",
              "      <td>...</td>\n",
              "      <td>...</td>\n",
              "    </tr>\n",
              "    <tr>\n",
              "      <th>4747</th>\n",
              "      <td>1065829</td>\n",
              "      <td>0::Subject-Suspect</td>\n",
              "      <td>0::20</td>\n",
              "      <td>0::Adult 18+</td>\n",
              "      <td>0::Male</td>\n",
              "      <td>0::Unharmed, Arrested</td>\n",
              "    </tr>\n",
              "    <tr>\n",
              "      <th>4748</th>\n",
              "      <td>1066571</td>\n",
              "      <td>0::Victim</td>\n",
              "      <td>0::30</td>\n",
              "      <td>0::Adult 18+</td>\n",
              "      <td>0::Male</td>\n",
              "      <td>0::Killed</td>\n",
              "    </tr>\n",
              "    <tr>\n",
              "      <th>4749</th>\n",
              "      <td>1066492</td>\n",
              "      <td>0::Victim||1::Subject-Suspect</td>\n",
              "      <td>0::17</td>\n",
              "      <td>0::Teen 12-17</td>\n",
              "      <td>0::Male||1::Male</td>\n",
              "      <td>0::Injured||1::Unharmed</td>\n",
              "    </tr>\n",
              "    <tr>\n",
              "      <th>4750</th>\n",
              "      <td>1065756</td>\n",
              "      <td>0::Victim||1::Victim||2::Subject-Suspect</td>\n",
              "      <td>0::32||2::24</td>\n",
              "      <td>0::Adult 18+||1::Adult 18+||2::Adult 18+</td>\n",
              "      <td>0::Male||2::Male</td>\n",
              "      <td>0::Killed||1::Killed||2::Unharmed, Arrested</td>\n",
              "    </tr>\n",
              "    <tr>\n",
              "      <th>4751</th>\n",
              "      <td>1069938</td>\n",
              "      <td>0::Subject-Suspect</td>\n",
              "      <td>0::24</td>\n",
              "      <td>0::Adult 18+</td>\n",
              "      <td>0::Male</td>\n",
              "      <td>0::Unharmed, Arrested</td>\n",
              "    </tr>\n",
              "  </tbody>\n",
              "</table>\n",
              "<p>13801 rows × 6 columns</p>\n",
              "</div>\n",
              "      <button class=\"colab-df-convert\" onclick=\"convertToInteractive('df-5238fa2c-a557-425d-813d-7601eb680a21')\"\n",
              "              title=\"Convert this dataframe to an interactive table.\"\n",
              "              style=\"display:none;\">\n",
              "        \n",
              "  <svg xmlns=\"http://www.w3.org/2000/svg\" height=\"24px\"viewBox=\"0 0 24 24\"\n",
              "       width=\"24px\">\n",
              "    <path d=\"M0 0h24v24H0V0z\" fill=\"none\"/>\n",
              "    <path d=\"M18.56 5.44l.94 2.06.94-2.06 2.06-.94-2.06-.94-.94-2.06-.94 2.06-2.06.94zm-11 1L8.5 8.5l.94-2.06 2.06-.94-2.06-.94L8.5 2.5l-.94 2.06-2.06.94zm10 10l.94 2.06.94-2.06 2.06-.94-2.06-.94-.94-2.06-.94 2.06-2.06.94z\"/><path d=\"M17.41 7.96l-1.37-1.37c-.4-.4-.92-.59-1.43-.59-.52 0-1.04.2-1.43.59L10.3 9.45l-7.72 7.72c-.78.78-.78 2.05 0 2.83L4 21.41c.39.39.9.59 1.41.59.51 0 1.02-.2 1.41-.59l7.78-7.78 2.81-2.81c.8-.78.8-2.07 0-2.86zM5.41 20L4 18.59l7.72-7.72 1.47 1.35L5.41 20z\"/>\n",
              "  </svg>\n",
              "      </button>\n",
              "      \n",
              "  <style>\n",
              "    .colab-df-container {\n",
              "      display:flex;\n",
              "      flex-wrap:wrap;\n",
              "      gap: 12px;\n",
              "    }\n",
              "\n",
              "    .colab-df-convert {\n",
              "      background-color: #E8F0FE;\n",
              "      border: none;\n",
              "      border-radius: 50%;\n",
              "      cursor: pointer;\n",
              "      display: none;\n",
              "      fill: #1967D2;\n",
              "      height: 32px;\n",
              "      padding: 0 0 0 0;\n",
              "      width: 32px;\n",
              "    }\n",
              "\n",
              "    .colab-df-convert:hover {\n",
              "      background-color: #E2EBFA;\n",
              "      box-shadow: 0px 1px 2px rgba(60, 64, 67, 0.3), 0px 1px 3px 1px rgba(60, 64, 67, 0.15);\n",
              "      fill: #174EA6;\n",
              "    }\n",
              "\n",
              "    [theme=dark] .colab-df-convert {\n",
              "      background-color: #3B4455;\n",
              "      fill: #D2E3FC;\n",
              "    }\n",
              "\n",
              "    [theme=dark] .colab-df-convert:hover {\n",
              "      background-color: #434B5C;\n",
              "      box-shadow: 0px 1px 3px 1px rgba(0, 0, 0, 0.15);\n",
              "      filter: drop-shadow(0px 1px 2px rgba(0, 0, 0, 0.3));\n",
              "      fill: #FFFFFF;\n",
              "    }\n",
              "  </style>\n",
              "\n",
              "      <script>\n",
              "        const buttonEl =\n",
              "          document.querySelector('#df-5238fa2c-a557-425d-813d-7601eb680a21 button.colab-df-convert');\n",
              "        buttonEl.style.display =\n",
              "          google.colab.kernel.accessAllowed ? 'block' : 'none';\n",
              "\n",
              "        async function convertToInteractive(key) {\n",
              "          const element = document.querySelector('#df-5238fa2c-a557-425d-813d-7601eb680a21');\n",
              "          const dataTable =\n",
              "            await google.colab.kernel.invokeFunction('convertToInteractive',\n",
              "                                                     [key], {});\n",
              "          if (!dataTable) return;\n",
              "\n",
              "          const docLinkHtml = 'Like what you see? Visit the ' +\n",
              "            '<a target=\"_blank\" href=https://colab.research.google.com/notebooks/data_table.ipynb>data table notebook</a>'\n",
              "            + ' to learn more about interactive tables.';\n",
              "          element.innerHTML = '';\n",
              "          dataTable['output_type'] = 'display_data';\n",
              "          await google.colab.output.renderOutput(dataTable, element);\n",
              "          const docLink = document.createElement('div');\n",
              "          docLink.innerHTML = docLinkHtml;\n",
              "          element.appendChild(docLink);\n",
              "        }\n",
              "      </script>\n",
              "    </div>\n",
              "  </div>\n",
              "  "
            ],
            "text/plain": [
              "      incident_id  ...                                 participant_status\n",
              "0         1024565  ...                              0::Unharmed, Arrested\n",
              "1         1025324  ...                                         0::Injured\n",
              "2         1025382  ...  0::Unharmed, Arrested||1::Unharmed, Arrested||...\n",
              "3         1025397  ...                                                NaN\n",
              "4         1059686  ...                              0::Unharmed, Arrested\n",
              "...           ...  ...                                                ...\n",
              "4747      1065829  ...                              0::Unharmed, Arrested\n",
              "4748      1066571  ...                                          0::Killed\n",
              "4749      1066492  ...                            0::Injured||1::Unharmed\n",
              "4750      1065756  ...        0::Killed||1::Killed||2::Unharmed, Arrested\n",
              "4751      1069938  ...                              0::Unharmed, Arrested\n",
              "\n",
              "[13801 rows x 6 columns]"
            ]
          },
          "metadata": {},
          "execution_count": 165
        }
      ],
      "source": [
        "participants = [full_gv['incident_id'], full_gv['participant_type'], full_gv['participant_age'],full_gv['participant_age_group'],\n",
        "                          full_gv['participant_gender'], full_gv['participant_status'], \n",
        "                          ]\n",
        "p_df = pd.concat(participants, axis=1)\n",
        "p_df"
      ]
    },
    {
      "cell_type": "code",
      "execution_count": null,
      "metadata": {
        "colab": {
          "base_uri": "https://localhost:8080/"
        },
        "id": "HGemrBZm5zUI",
        "outputId": "e51eb0fd-691b-47e5-a6c9-04f8098782ea"
      },
      "outputs": [
        {
          "output_type": "execute_result",
          "data": {
            "text/plain": [
              "['0::Subject-Suspect',\n",
              " '1::Subject-Suspect',\n",
              " '2::Subject-Suspect',\n",
              " '3::Subject-Suspect']"
            ]
          },
          "metadata": {},
          "execution_count": 166
        }
      ],
      "source": [
        "p = p_df.iat[2, 1]\n",
        "p = p.split(\"||\")\n",
        "p"
      ]
    },
    {
      "cell_type": "code",
      "execution_count": null,
      "metadata": {
        "colab": {
          "base_uri": "https://localhost:8080/"
        },
        "id": "FEWZRO4e6gl3",
        "outputId": "4c50596f-692a-4785-e857-cf2ebfc74391"
      },
      "outputs": [
        {
          "output_type": "stream",
          "name": "stdout",
          "text": [
            "Subject-Suspect\n"
          ]
        }
      ],
      "source": [
        "print(p[0][3:])"
      ]
    },
    {
      "cell_type": "code",
      "execution_count": null,
      "metadata": {
        "colab": {
          "base_uri": "https://localhost:8080/",
          "height": 122
        },
        "id": "qIcK21VCBUIG",
        "outputId": "4488638e-17ef-4675-e221-9796d4043235"
      },
      "outputs": [
        {
          "output_type": "execute_result",
          "data": {
            "application/vnd.google.colaboratory.intrinsic+json": {
              "type": "string"
            },
            "text/plain": [
              "'\\ndef trim(word):\\n  return word[3:]\\n\\n\\nfrom numpy.core.numeric import NaN\\niid = []\\npid = []\\nage = []\\nage_g = []\\nstatus = []\\np_type = []\\n\\n\\nrow_index = 0\\nfor i in range(13801):\\n  col_index = 0\\n  current_id = p_df.iat[row_index,0]\\n\\n  # get full participant list- based on participant_type\\n  participants = p_df.iat[row_index, 1]\\n  \\n  if(np.isnan(participants)):\\n    iid.append(current_id)\\n    pid.append(NaN)\\n    age.append(NaN)\\n    age_g.append(NaN)\\n    status.append(NaN)\\n    p_type.append(NaN)\\n\\n\\n  else:\\n    p_list = participants.split(\"||\")\\n    num_participants = len(p_list)\\n\\n    temp_pid = 0\\n    for p in p_list:\\n      # copy incident id\\n      iid.append(current_id)\\n\\n      # create pid\\n      pid.append(temp_pid)\\n      pid = pid + 1\\n\\n      # append participant types\\n      p = trim(p)\\n      p_type.append(p)\\n\\n    # now, append ages \\n    p_age = p_df.iat[row_index, 2]\\n    if(np.isnan(p_age)):\\n\\n    \\n\\n\\n\\n  row_index = row_index + 1\\n  \\n'"
            ]
          },
          "metadata": {},
          "execution_count": 168
        }
      ],
      "source": [
        "\"\"\"\n",
        "def trim(word):\n",
        "  return word[3:]\n",
        "\n",
        "\n",
        "from numpy.core.numeric import NaN\n",
        "iid = []\n",
        "pid = []\n",
        "age = []\n",
        "age_g = []\n",
        "status = []\n",
        "p_type = []\n",
        "\n",
        "\n",
        "row_index = 0\n",
        "for i in range(13801):\n",
        "  col_index = 0\n",
        "  current_id = p_df.iat[row_index,0]\n",
        "\n",
        "  # get full participant list- based on participant_type\n",
        "  participants = p_df.iat[row_index, 1]\n",
        "  \n",
        "  if(np.isnan(participants)):\n",
        "    iid.append(current_id)\n",
        "    pid.append(NaN)\n",
        "    age.append(NaN)\n",
        "    age_g.append(NaN)\n",
        "    status.append(NaN)\n",
        "    p_type.append(NaN)\n",
        "\n",
        "\n",
        "  else:\n",
        "    p_list = participants.split(\"||\")\n",
        "    num_participants = len(p_list)\n",
        "\n",
        "    temp_pid = 0\n",
        "    for p in p_list:\n",
        "      # copy incident id\n",
        "      iid.append(current_id)\n",
        "\n",
        "      # create pid\n",
        "      pid.append(temp_pid)\n",
        "      pid = pid + 1\n",
        "\n",
        "      # append participant types\n",
        "      p = trim(p)\n",
        "      p_type.append(p)\n",
        "\n",
        "    # now, append ages \n",
        "    p_age = p_df.iat[row_index, 2]\n",
        "    if(np.isnan(p_age)):\n",
        "\n",
        "    \n",
        "\n",
        "\n",
        "\n",
        "  row_index = row_index + 1\n",
        "  \n",
        "\"\"\" "
      ]
    },
    {
      "cell_type": "code",
      "execution_count": null,
      "metadata": {
        "colab": {
          "base_uri": "https://localhost:8080/",
          "height": 36
        },
        "id": "8hkw3DEm31x5",
        "outputId": "8c97fe59-faf8-453a-f041-3c5d4d607994"
      },
      "outputs": [
        {
          "output_type": "execute_result",
          "data": {
            "application/vnd.google.colaboratory.intrinsic+json": {
              "type": "string"
            },
            "text/plain": [
              "\"\\nparticipants_mi = p_df.set_index(['iid', 'pid'])\\n\""
            ]
          },
          "metadata": {},
          "execution_count": 169
        }
      ],
      "source": [
        "'''\n",
        "participants_mi = p_df.set_index(['iid', 'pid'])\n",
        "'''"
      ]
    },
    {
      "cell_type": "markdown",
      "metadata": {
        "id": "X0s0ZwDDB37Z"
      },
      "source": [
        "As discussed in the write up below, the scope of the investigation has now varied slightly due to the difficulties regarding the stored dictionaries. I am now going to drop more columns from the dataset in order to focus in on ones relevant to this investigation. "
      ]
    },
    {
      "cell_type": "code",
      "execution_count": null,
      "metadata": {
        "id": "Q_9R-13-B3Qt"
      },
      "outputs": [],
      "source": [
        "full_gv = full_gv.drop(columns=['city_or_county', 'gun_stolen', 'gun_type', 'location_description', 'participant_age', 'participant_age_group', 'participant_gender', 'participant_name','participant_status', 'participant_type'])"
      ]
    },
    {
      "cell_type": "markdown",
      "source": [
        "Next, I am going to separate the dataframe into two separate dataframes: one containing incidents prior to the Parkland shooting, and one for incidents after. These will be named pre_gv and post_gv, respectively."
      ],
      "metadata": {
        "id": "rXQ5XlY4O0e_"
      }
    },
    {
      "cell_type": "code",
      "execution_count": null,
      "metadata": {
        "colab": {
          "base_uri": "https://localhost:8080/",
          "height": 423
        },
        "id": "jZpvU3k54myk",
        "outputId": "999e2223-7abc-4a4f-eb01-ca7fa435860d"
      },
      "outputs": [
        {
          "output_type": "execute_result",
          "data": {
            "text/html": [
              "\n",
              "  <div id=\"df-93e0ea75-8463-42f7-b08d-b87cc9e93fdb\">\n",
              "    <div class=\"colab-df-container\">\n",
              "      <div>\n",
              "<style scoped>\n",
              "    .dataframe tbody tr th:only-of-type {\n",
              "        vertical-align: middle;\n",
              "    }\n",
              "\n",
              "    .dataframe tbody tr th {\n",
              "        vertical-align: top;\n",
              "    }\n",
              "\n",
              "    .dataframe thead th {\n",
              "        text-align: right;\n",
              "    }\n",
              "</style>\n",
              "<table border=\"1\" class=\"dataframe\">\n",
              "  <thead>\n",
              "    <tr style=\"text-align: right;\">\n",
              "      <th></th>\n",
              "      <th>incident_id</th>\n",
              "      <th>date</th>\n",
              "      <th>state</th>\n",
              "      <th>n_killed</th>\n",
              "      <th>n_injured</th>\n",
              "      <th>n_guns_involved</th>\n",
              "    </tr>\n",
              "  </thead>\n",
              "  <tbody>\n",
              "    <tr>\n",
              "      <th>0</th>\n",
              "      <td>1024565</td>\n",
              "      <td>2018-01-10</td>\n",
              "      <td>California</td>\n",
              "      <td>0</td>\n",
              "      <td>0</td>\n",
              "      <td>1.0</td>\n",
              "    </tr>\n",
              "    <tr>\n",
              "      <th>1</th>\n",
              "      <td>1025324</td>\n",
              "      <td>2018-01-10</td>\n",
              "      <td>Ohio</td>\n",
              "      <td>0</td>\n",
              "      <td>1</td>\n",
              "      <td>1.0</td>\n",
              "    </tr>\n",
              "    <tr>\n",
              "      <th>2</th>\n",
              "      <td>1025382</td>\n",
              "      <td>2018-01-10</td>\n",
              "      <td>Kentucky</td>\n",
              "      <td>0</td>\n",
              "      <td>0</td>\n",
              "      <td>1.0</td>\n",
              "    </tr>\n",
              "    <tr>\n",
              "      <th>3</th>\n",
              "      <td>1025397</td>\n",
              "      <td>2018-01-10</td>\n",
              "      <td>Massachusetts</td>\n",
              "      <td>0</td>\n",
              "      <td>0</td>\n",
              "      <td>1.0</td>\n",
              "    </tr>\n",
              "    <tr>\n",
              "      <th>4</th>\n",
              "      <td>1059686</td>\n",
              "      <td>2018-01-10</td>\n",
              "      <td>Maine</td>\n",
              "      <td>0</td>\n",
              "      <td>0</td>\n",
              "      <td>1.0</td>\n",
              "    </tr>\n",
              "    <tr>\n",
              "      <th>...</th>\n",
              "      <td>...</td>\n",
              "      <td>...</td>\n",
              "      <td>...</td>\n",
              "      <td>...</td>\n",
              "      <td>...</td>\n",
              "      <td>...</td>\n",
              "    </tr>\n",
              "    <tr>\n",
              "      <th>4119</th>\n",
              "      <td>1042375</td>\n",
              "      <td>2018-02-02</td>\n",
              "      <td>Pennsylvania</td>\n",
              "      <td>0</td>\n",
              "      <td>1</td>\n",
              "      <td>1.0</td>\n",
              "    </tr>\n",
              "    <tr>\n",
              "      <th>4120</th>\n",
              "      <td>1042747</td>\n",
              "      <td>2018-02-02</td>\n",
              "      <td>Indiana</td>\n",
              "      <td>0</td>\n",
              "      <td>0</td>\n",
              "      <td>1.0</td>\n",
              "    </tr>\n",
              "    <tr>\n",
              "      <th>4121</th>\n",
              "      <td>1042168</td>\n",
              "      <td>2018-02-02</td>\n",
              "      <td>Montana</td>\n",
              "      <td>0</td>\n",
              "      <td>1</td>\n",
              "      <td>1.0</td>\n",
              "    </tr>\n",
              "    <tr>\n",
              "      <th>4122</th>\n",
              "      <td>1042228</td>\n",
              "      <td>2018-02-02</td>\n",
              "      <td>South Carolina</td>\n",
              "      <td>1</td>\n",
              "      <td>1</td>\n",
              "      <td>1.0</td>\n",
              "    </tr>\n",
              "    <tr>\n",
              "      <th>4123</th>\n",
              "      <td>1041700</td>\n",
              "      <td>2018-02-02</td>\n",
              "      <td>Georgia</td>\n",
              "      <td>1</td>\n",
              "      <td>0</td>\n",
              "      <td>1.0</td>\n",
              "    </tr>\n",
              "  </tbody>\n",
              "</table>\n",
              "<p>6880 rows × 6 columns</p>\n",
              "</div>\n",
              "      <button class=\"colab-df-convert\" onclick=\"convertToInteractive('df-93e0ea75-8463-42f7-b08d-b87cc9e93fdb')\"\n",
              "              title=\"Convert this dataframe to an interactive table.\"\n",
              "              style=\"display:none;\">\n",
              "        \n",
              "  <svg xmlns=\"http://www.w3.org/2000/svg\" height=\"24px\"viewBox=\"0 0 24 24\"\n",
              "       width=\"24px\">\n",
              "    <path d=\"M0 0h24v24H0V0z\" fill=\"none\"/>\n",
              "    <path d=\"M18.56 5.44l.94 2.06.94-2.06 2.06-.94-2.06-.94-.94-2.06-.94 2.06-2.06.94zm-11 1L8.5 8.5l.94-2.06 2.06-.94-2.06-.94L8.5 2.5l-.94 2.06-2.06.94zm10 10l.94 2.06.94-2.06 2.06-.94-2.06-.94-.94-2.06-.94 2.06-2.06.94z\"/><path d=\"M17.41 7.96l-1.37-1.37c-.4-.4-.92-.59-1.43-.59-.52 0-1.04.2-1.43.59L10.3 9.45l-7.72 7.72c-.78.78-.78 2.05 0 2.83L4 21.41c.39.39.9.59 1.41.59.51 0 1.02-.2 1.41-.59l7.78-7.78 2.81-2.81c.8-.78.8-2.07 0-2.86zM5.41 20L4 18.59l7.72-7.72 1.47 1.35L5.41 20z\"/>\n",
              "  </svg>\n",
              "      </button>\n",
              "      \n",
              "  <style>\n",
              "    .colab-df-container {\n",
              "      display:flex;\n",
              "      flex-wrap:wrap;\n",
              "      gap: 12px;\n",
              "    }\n",
              "\n",
              "    .colab-df-convert {\n",
              "      background-color: #E8F0FE;\n",
              "      border: none;\n",
              "      border-radius: 50%;\n",
              "      cursor: pointer;\n",
              "      display: none;\n",
              "      fill: #1967D2;\n",
              "      height: 32px;\n",
              "      padding: 0 0 0 0;\n",
              "      width: 32px;\n",
              "    }\n",
              "\n",
              "    .colab-df-convert:hover {\n",
              "      background-color: #E2EBFA;\n",
              "      box-shadow: 0px 1px 2px rgba(60, 64, 67, 0.3), 0px 1px 3px 1px rgba(60, 64, 67, 0.15);\n",
              "      fill: #174EA6;\n",
              "    }\n",
              "\n",
              "    [theme=dark] .colab-df-convert {\n",
              "      background-color: #3B4455;\n",
              "      fill: #D2E3FC;\n",
              "    }\n",
              "\n",
              "    [theme=dark] .colab-df-convert:hover {\n",
              "      background-color: #434B5C;\n",
              "      box-shadow: 0px 1px 3px 1px rgba(0, 0, 0, 0.15);\n",
              "      filter: drop-shadow(0px 1px 2px rgba(0, 0, 0, 0.3));\n",
              "      fill: #FFFFFF;\n",
              "    }\n",
              "  </style>\n",
              "\n",
              "      <script>\n",
              "        const buttonEl =\n",
              "          document.querySelector('#df-93e0ea75-8463-42f7-b08d-b87cc9e93fdb button.colab-df-convert');\n",
              "        buttonEl.style.display =\n",
              "          google.colab.kernel.accessAllowed ? 'block' : 'none';\n",
              "\n",
              "        async function convertToInteractive(key) {\n",
              "          const element = document.querySelector('#df-93e0ea75-8463-42f7-b08d-b87cc9e93fdb');\n",
              "          const dataTable =\n",
              "            await google.colab.kernel.invokeFunction('convertToInteractive',\n",
              "                                                     [key], {});\n",
              "          if (!dataTable) return;\n",
              "\n",
              "          const docLinkHtml = 'Like what you see? Visit the ' +\n",
              "            '<a target=\"_blank\" href=https://colab.research.google.com/notebooks/data_table.ipynb>data table notebook</a>'\n",
              "            + ' to learn more about interactive tables.';\n",
              "          element.innerHTML = '';\n",
              "          dataTable['output_type'] = 'display_data';\n",
              "          await google.colab.output.renderOutput(dataTable, element);\n",
              "          const docLink = document.createElement('div');\n",
              "          docLink.innerHTML = docLinkHtml;\n",
              "          element.appendChild(docLink);\n",
              "        }\n",
              "      </script>\n",
              "    </div>\n",
              "  </div>\n",
              "  "
            ],
            "text/plain": [
              "      incident_id        date  ... n_injured  n_guns_involved\n",
              "0         1024565  2018-01-10  ...         0              1.0\n",
              "1         1025324  2018-01-10  ...         1              1.0\n",
              "2         1025382  2018-01-10  ...         0              1.0\n",
              "3         1025397  2018-01-10  ...         0              1.0\n",
              "4         1059686  2018-01-10  ...         0              1.0\n",
              "...           ...         ...  ...       ...              ...\n",
              "4119      1042375  2018-02-02  ...         1              1.0\n",
              "4120      1042747  2018-02-02  ...         0              1.0\n",
              "4121      1042168  2018-02-02  ...         1              1.0\n",
              "4122      1042228  2018-02-02  ...         1              1.0\n",
              "4123      1041700  2018-02-02  ...         0              1.0\n",
              "\n",
              "[6880 rows x 6 columns]"
            ]
          },
          "metadata": {},
          "execution_count": 171
        }
      ],
      "source": [
        "pre_gv = full_gv[full_gv['date'] <= \"2018-02-14\"]\n",
        "pre_gv"
      ]
    },
    {
      "cell_type": "code",
      "execution_count": null,
      "metadata": {
        "colab": {
          "base_uri": "https://localhost:8080/",
          "height": 423
        },
        "id": "Gj9WALLF5heR",
        "outputId": "cc7d3232-f98e-43dd-a4dd-5236e4c6f659"
      },
      "outputs": [
        {
          "output_type": "execute_result",
          "data": {
            "text/html": [
              "\n",
              "  <div id=\"df-05afcd60-debc-4b04-a0c7-822172593689\">\n",
              "    <div class=\"colab-df-container\">\n",
              "      <div>\n",
              "<style scoped>\n",
              "    .dataframe tbody tr th:only-of-type {\n",
              "        vertical-align: middle;\n",
              "    }\n",
              "\n",
              "    .dataframe tbody tr th {\n",
              "        vertical-align: top;\n",
              "    }\n",
              "\n",
              "    .dataframe thead th {\n",
              "        text-align: right;\n",
              "    }\n",
              "</style>\n",
              "<table border=\"1\" class=\"dataframe\">\n",
              "  <thead>\n",
              "    <tr style=\"text-align: right;\">\n",
              "      <th></th>\n",
              "      <th>incident_id</th>\n",
              "      <th>date</th>\n",
              "      <th>state</th>\n",
              "      <th>n_killed</th>\n",
              "      <th>n_injured</th>\n",
              "      <th>n_guns_involved</th>\n",
              "    </tr>\n",
              "  </thead>\n",
              "  <tbody>\n",
              "    <tr>\n",
              "      <th>0</th>\n",
              "      <td>1057705</td>\n",
              "      <td>2018-02-24</td>\n",
              "      <td>North Carolina</td>\n",
              "      <td>0</td>\n",
              "      <td>1</td>\n",
              "      <td>1.0</td>\n",
              "    </tr>\n",
              "    <tr>\n",
              "      <th>1</th>\n",
              "      <td>1056932</td>\n",
              "      <td>2018-02-24</td>\n",
              "      <td>Pennsylvania</td>\n",
              "      <td>0</td>\n",
              "      <td>1</td>\n",
              "      <td>1.0</td>\n",
              "    </tr>\n",
              "    <tr>\n",
              "      <th>2</th>\n",
              "      <td>1056938</td>\n",
              "      <td>2018-02-24</td>\n",
              "      <td>Texas</td>\n",
              "      <td>0</td>\n",
              "      <td>1</td>\n",
              "      <td>1.0</td>\n",
              "    </tr>\n",
              "    <tr>\n",
              "      <th>3</th>\n",
              "      <td>1056943</td>\n",
              "      <td>2018-02-24</td>\n",
              "      <td>Florida</td>\n",
              "      <td>0</td>\n",
              "      <td>1</td>\n",
              "      <td>1.0</td>\n",
              "    </tr>\n",
              "    <tr>\n",
              "      <th>4</th>\n",
              "      <td>1056924</td>\n",
              "      <td>2018-02-24</td>\n",
              "      <td>Minnesota</td>\n",
              "      <td>0</td>\n",
              "      <td>0</td>\n",
              "      <td>1.0</td>\n",
              "    </tr>\n",
              "    <tr>\n",
              "      <th>...</th>\n",
              "      <td>...</td>\n",
              "      <td>...</td>\n",
              "      <td>...</td>\n",
              "      <td>...</td>\n",
              "      <td>...</td>\n",
              "      <td>...</td>\n",
              "    </tr>\n",
              "    <tr>\n",
              "      <th>4747</th>\n",
              "      <td>1065829</td>\n",
              "      <td>2018-03-09</td>\n",
              "      <td>Florida</td>\n",
              "      <td>0</td>\n",
              "      <td>0</td>\n",
              "      <td>1.0</td>\n",
              "    </tr>\n",
              "    <tr>\n",
              "      <th>4748</th>\n",
              "      <td>1066571</td>\n",
              "      <td>2018-03-09</td>\n",
              "      <td>Maryland</td>\n",
              "      <td>1</td>\n",
              "      <td>0</td>\n",
              "      <td>1.0</td>\n",
              "    </tr>\n",
              "    <tr>\n",
              "      <th>4749</th>\n",
              "      <td>1066492</td>\n",
              "      <td>2018-03-09</td>\n",
              "      <td>Illinois</td>\n",
              "      <td>0</td>\n",
              "      <td>1</td>\n",
              "      <td>1.0</td>\n",
              "    </tr>\n",
              "    <tr>\n",
              "      <th>4750</th>\n",
              "      <td>1065756</td>\n",
              "      <td>2018-03-09</td>\n",
              "      <td>Texas</td>\n",
              "      <td>2</td>\n",
              "      <td>0</td>\n",
              "      <td>1.0</td>\n",
              "    </tr>\n",
              "    <tr>\n",
              "      <th>4751</th>\n",
              "      <td>1069938</td>\n",
              "      <td>2018-03-09</td>\n",
              "      <td>Maryland</td>\n",
              "      <td>0</td>\n",
              "      <td>0</td>\n",
              "      <td>1.0</td>\n",
              "    </tr>\n",
              "  </tbody>\n",
              "</table>\n",
              "<p>6921 rows × 6 columns</p>\n",
              "</div>\n",
              "      <button class=\"colab-df-convert\" onclick=\"convertToInteractive('df-05afcd60-debc-4b04-a0c7-822172593689')\"\n",
              "              title=\"Convert this dataframe to an interactive table.\"\n",
              "              style=\"display:none;\">\n",
              "        \n",
              "  <svg xmlns=\"http://www.w3.org/2000/svg\" height=\"24px\"viewBox=\"0 0 24 24\"\n",
              "       width=\"24px\">\n",
              "    <path d=\"M0 0h24v24H0V0z\" fill=\"none\"/>\n",
              "    <path d=\"M18.56 5.44l.94 2.06.94-2.06 2.06-.94-2.06-.94-.94-2.06-.94 2.06-2.06.94zm-11 1L8.5 8.5l.94-2.06 2.06-.94-2.06-.94L8.5 2.5l-.94 2.06-2.06.94zm10 10l.94 2.06.94-2.06 2.06-.94-2.06-.94-.94-2.06-.94 2.06-2.06.94z\"/><path d=\"M17.41 7.96l-1.37-1.37c-.4-.4-.92-.59-1.43-.59-.52 0-1.04.2-1.43.59L10.3 9.45l-7.72 7.72c-.78.78-.78 2.05 0 2.83L4 21.41c.39.39.9.59 1.41.59.51 0 1.02-.2 1.41-.59l7.78-7.78 2.81-2.81c.8-.78.8-2.07 0-2.86zM5.41 20L4 18.59l7.72-7.72 1.47 1.35L5.41 20z\"/>\n",
              "  </svg>\n",
              "      </button>\n",
              "      \n",
              "  <style>\n",
              "    .colab-df-container {\n",
              "      display:flex;\n",
              "      flex-wrap:wrap;\n",
              "      gap: 12px;\n",
              "    }\n",
              "\n",
              "    .colab-df-convert {\n",
              "      background-color: #E8F0FE;\n",
              "      border: none;\n",
              "      border-radius: 50%;\n",
              "      cursor: pointer;\n",
              "      display: none;\n",
              "      fill: #1967D2;\n",
              "      height: 32px;\n",
              "      padding: 0 0 0 0;\n",
              "      width: 32px;\n",
              "    }\n",
              "\n",
              "    .colab-df-convert:hover {\n",
              "      background-color: #E2EBFA;\n",
              "      box-shadow: 0px 1px 2px rgba(60, 64, 67, 0.3), 0px 1px 3px 1px rgba(60, 64, 67, 0.15);\n",
              "      fill: #174EA6;\n",
              "    }\n",
              "\n",
              "    [theme=dark] .colab-df-convert {\n",
              "      background-color: #3B4455;\n",
              "      fill: #D2E3FC;\n",
              "    }\n",
              "\n",
              "    [theme=dark] .colab-df-convert:hover {\n",
              "      background-color: #434B5C;\n",
              "      box-shadow: 0px 1px 3px 1px rgba(0, 0, 0, 0.15);\n",
              "      filter: drop-shadow(0px 1px 2px rgba(0, 0, 0, 0.3));\n",
              "      fill: #FFFFFF;\n",
              "    }\n",
              "  </style>\n",
              "\n",
              "      <script>\n",
              "        const buttonEl =\n",
              "          document.querySelector('#df-05afcd60-debc-4b04-a0c7-822172593689 button.colab-df-convert');\n",
              "        buttonEl.style.display =\n",
              "          google.colab.kernel.accessAllowed ? 'block' : 'none';\n",
              "\n",
              "        async function convertToInteractive(key) {\n",
              "          const element = document.querySelector('#df-05afcd60-debc-4b04-a0c7-822172593689');\n",
              "          const dataTable =\n",
              "            await google.colab.kernel.invokeFunction('convertToInteractive',\n",
              "                                                     [key], {});\n",
              "          if (!dataTable) return;\n",
              "\n",
              "          const docLinkHtml = 'Like what you see? Visit the ' +\n",
              "            '<a target=\"_blank\" href=https://colab.research.google.com/notebooks/data_table.ipynb>data table notebook</a>'\n",
              "            + ' to learn more about interactive tables.';\n",
              "          element.innerHTML = '';\n",
              "          dataTable['output_type'] = 'display_data';\n",
              "          await google.colab.output.renderOutput(dataTable, element);\n",
              "          const docLink = document.createElement('div');\n",
              "          docLink.innerHTML = docLinkHtml;\n",
              "          element.appendChild(docLink);\n",
              "        }\n",
              "      </script>\n",
              "    </div>\n",
              "  </div>\n",
              "  "
            ],
            "text/plain": [
              "      incident_id        date  ... n_injured  n_guns_involved\n",
              "0         1057705  2018-02-24  ...         1              1.0\n",
              "1         1056932  2018-02-24  ...         1              1.0\n",
              "2         1056938  2018-02-24  ...         1              1.0\n",
              "3         1056943  2018-02-24  ...         1              1.0\n",
              "4         1056924  2018-02-24  ...         0              1.0\n",
              "...           ...         ...  ...       ...              ...\n",
              "4747      1065829  2018-03-09  ...         0              1.0\n",
              "4748      1066571  2018-03-09  ...         0              1.0\n",
              "4749      1066492  2018-03-09  ...         1              1.0\n",
              "4750      1065756  2018-03-09  ...         0              1.0\n",
              "4751      1069938  2018-03-09  ...         0              1.0\n",
              "\n",
              "[6921 rows x 6 columns]"
            ]
          },
          "metadata": {},
          "execution_count": 172
        }
      ],
      "source": [
        "post_gv = full_gv[full_gv['date'] > \"2018-02-14\"]\n",
        "post_gv"
      ]
    },
    {
      "cell_type": "markdown",
      "source": [
        "Now that these two dataframes are fairly clean and organized, we will check the null values, check the head and tails, and validate against an external data source, following the EDA."
      ],
      "metadata": {
        "id": "zOagrL-uPfcv"
      }
    },
    {
      "cell_type": "markdown",
      "metadata": {
        "id": "KCMPm6bAACxV"
      },
      "source": [
        " **Check the head and tails** of each df:"
      ]
    },
    {
      "cell_type": "code",
      "execution_count": null,
      "metadata": {
        "colab": {
          "base_uri": "https://localhost:8080/",
          "height": 206
        },
        "id": "oy3sVMdxACDQ",
        "outputId": "113cefc5-5abc-4f34-c74e-9dc01ec45a8e"
      },
      "outputs": [
        {
          "output_type": "execute_result",
          "data": {
            "text/html": [
              "\n",
              "  <div id=\"df-94224a86-8ea9-46c0-82f6-06bd2b50b02c\">\n",
              "    <div class=\"colab-df-container\">\n",
              "      <div>\n",
              "<style scoped>\n",
              "    .dataframe tbody tr th:only-of-type {\n",
              "        vertical-align: middle;\n",
              "    }\n",
              "\n",
              "    .dataframe tbody tr th {\n",
              "        vertical-align: top;\n",
              "    }\n",
              "\n",
              "    .dataframe thead th {\n",
              "        text-align: right;\n",
              "    }\n",
              "</style>\n",
              "<table border=\"1\" class=\"dataframe\">\n",
              "  <thead>\n",
              "    <tr style=\"text-align: right;\">\n",
              "      <th></th>\n",
              "      <th>incident_id</th>\n",
              "      <th>date</th>\n",
              "      <th>state</th>\n",
              "      <th>n_killed</th>\n",
              "      <th>n_injured</th>\n",
              "      <th>n_guns_involved</th>\n",
              "    </tr>\n",
              "  </thead>\n",
              "  <tbody>\n",
              "    <tr>\n",
              "      <th>0</th>\n",
              "      <td>1024565</td>\n",
              "      <td>2018-01-10</td>\n",
              "      <td>California</td>\n",
              "      <td>0</td>\n",
              "      <td>0</td>\n",
              "      <td>1.0</td>\n",
              "    </tr>\n",
              "    <tr>\n",
              "      <th>1</th>\n",
              "      <td>1025324</td>\n",
              "      <td>2018-01-10</td>\n",
              "      <td>Ohio</td>\n",
              "      <td>0</td>\n",
              "      <td>1</td>\n",
              "      <td>1.0</td>\n",
              "    </tr>\n",
              "    <tr>\n",
              "      <th>2</th>\n",
              "      <td>1025382</td>\n",
              "      <td>2018-01-10</td>\n",
              "      <td>Kentucky</td>\n",
              "      <td>0</td>\n",
              "      <td>0</td>\n",
              "      <td>1.0</td>\n",
              "    </tr>\n",
              "    <tr>\n",
              "      <th>3</th>\n",
              "      <td>1025397</td>\n",
              "      <td>2018-01-10</td>\n",
              "      <td>Massachusetts</td>\n",
              "      <td>0</td>\n",
              "      <td>0</td>\n",
              "      <td>1.0</td>\n",
              "    </tr>\n",
              "    <tr>\n",
              "      <th>4</th>\n",
              "      <td>1059686</td>\n",
              "      <td>2018-01-10</td>\n",
              "      <td>Maine</td>\n",
              "      <td>0</td>\n",
              "      <td>0</td>\n",
              "      <td>1.0</td>\n",
              "    </tr>\n",
              "  </tbody>\n",
              "</table>\n",
              "</div>\n",
              "      <button class=\"colab-df-convert\" onclick=\"convertToInteractive('df-94224a86-8ea9-46c0-82f6-06bd2b50b02c')\"\n",
              "              title=\"Convert this dataframe to an interactive table.\"\n",
              "              style=\"display:none;\">\n",
              "        \n",
              "  <svg xmlns=\"http://www.w3.org/2000/svg\" height=\"24px\"viewBox=\"0 0 24 24\"\n",
              "       width=\"24px\">\n",
              "    <path d=\"M0 0h24v24H0V0z\" fill=\"none\"/>\n",
              "    <path d=\"M18.56 5.44l.94 2.06.94-2.06 2.06-.94-2.06-.94-.94-2.06-.94 2.06-2.06.94zm-11 1L8.5 8.5l.94-2.06 2.06-.94-2.06-.94L8.5 2.5l-.94 2.06-2.06.94zm10 10l.94 2.06.94-2.06 2.06-.94-2.06-.94-.94-2.06-.94 2.06-2.06.94z\"/><path d=\"M17.41 7.96l-1.37-1.37c-.4-.4-.92-.59-1.43-.59-.52 0-1.04.2-1.43.59L10.3 9.45l-7.72 7.72c-.78.78-.78 2.05 0 2.83L4 21.41c.39.39.9.59 1.41.59.51 0 1.02-.2 1.41-.59l7.78-7.78 2.81-2.81c.8-.78.8-2.07 0-2.86zM5.41 20L4 18.59l7.72-7.72 1.47 1.35L5.41 20z\"/>\n",
              "  </svg>\n",
              "      </button>\n",
              "      \n",
              "  <style>\n",
              "    .colab-df-container {\n",
              "      display:flex;\n",
              "      flex-wrap:wrap;\n",
              "      gap: 12px;\n",
              "    }\n",
              "\n",
              "    .colab-df-convert {\n",
              "      background-color: #E8F0FE;\n",
              "      border: none;\n",
              "      border-radius: 50%;\n",
              "      cursor: pointer;\n",
              "      display: none;\n",
              "      fill: #1967D2;\n",
              "      height: 32px;\n",
              "      padding: 0 0 0 0;\n",
              "      width: 32px;\n",
              "    }\n",
              "\n",
              "    .colab-df-convert:hover {\n",
              "      background-color: #E2EBFA;\n",
              "      box-shadow: 0px 1px 2px rgba(60, 64, 67, 0.3), 0px 1px 3px 1px rgba(60, 64, 67, 0.15);\n",
              "      fill: #174EA6;\n",
              "    }\n",
              "\n",
              "    [theme=dark] .colab-df-convert {\n",
              "      background-color: #3B4455;\n",
              "      fill: #D2E3FC;\n",
              "    }\n",
              "\n",
              "    [theme=dark] .colab-df-convert:hover {\n",
              "      background-color: #434B5C;\n",
              "      box-shadow: 0px 1px 3px 1px rgba(0, 0, 0, 0.15);\n",
              "      filter: drop-shadow(0px 1px 2px rgba(0, 0, 0, 0.3));\n",
              "      fill: #FFFFFF;\n",
              "    }\n",
              "  </style>\n",
              "\n",
              "      <script>\n",
              "        const buttonEl =\n",
              "          document.querySelector('#df-94224a86-8ea9-46c0-82f6-06bd2b50b02c button.colab-df-convert');\n",
              "        buttonEl.style.display =\n",
              "          google.colab.kernel.accessAllowed ? 'block' : 'none';\n",
              "\n",
              "        async function convertToInteractive(key) {\n",
              "          const element = document.querySelector('#df-94224a86-8ea9-46c0-82f6-06bd2b50b02c');\n",
              "          const dataTable =\n",
              "            await google.colab.kernel.invokeFunction('convertToInteractive',\n",
              "                                                     [key], {});\n",
              "          if (!dataTable) return;\n",
              "\n",
              "          const docLinkHtml = 'Like what you see? Visit the ' +\n",
              "            '<a target=\"_blank\" href=https://colab.research.google.com/notebooks/data_table.ipynb>data table notebook</a>'\n",
              "            + ' to learn more about interactive tables.';\n",
              "          element.innerHTML = '';\n",
              "          dataTable['output_type'] = 'display_data';\n",
              "          await google.colab.output.renderOutput(dataTable, element);\n",
              "          const docLink = document.createElement('div');\n",
              "          docLink.innerHTML = docLinkHtml;\n",
              "          element.appendChild(docLink);\n",
              "        }\n",
              "      </script>\n",
              "    </div>\n",
              "  </div>\n",
              "  "
            ],
            "text/plain": [
              "   incident_id        date          state  n_killed  n_injured  n_guns_involved\n",
              "0      1024565  2018-01-10     California         0          0              1.0\n",
              "1      1025324  2018-01-10           Ohio         0          1              1.0\n",
              "2      1025382  2018-01-10       Kentucky         0          0              1.0\n",
              "3      1025397  2018-01-10  Massachusetts         0          0              1.0\n",
              "4      1059686  2018-01-10          Maine         0          0              1.0"
            ]
          },
          "metadata": {},
          "execution_count": 173
        }
      ],
      "source": [
        "pre_gv.head()"
      ]
    },
    {
      "cell_type": "code",
      "execution_count": null,
      "metadata": {
        "colab": {
          "base_uri": "https://localhost:8080/",
          "height": 206
        },
        "id": "WG6mvuigAH_H",
        "outputId": "1dac9e59-4283-4f00-a092-060fcae221b1"
      },
      "outputs": [
        {
          "output_type": "execute_result",
          "data": {
            "text/html": [
              "\n",
              "  <div id=\"df-6d543790-7bb5-4667-9393-28479f3b8a16\">\n",
              "    <div class=\"colab-df-container\">\n",
              "      <div>\n",
              "<style scoped>\n",
              "    .dataframe tbody tr th:only-of-type {\n",
              "        vertical-align: middle;\n",
              "    }\n",
              "\n",
              "    .dataframe tbody tr th {\n",
              "        vertical-align: top;\n",
              "    }\n",
              "\n",
              "    .dataframe thead th {\n",
              "        text-align: right;\n",
              "    }\n",
              "</style>\n",
              "<table border=\"1\" class=\"dataframe\">\n",
              "  <thead>\n",
              "    <tr style=\"text-align: right;\">\n",
              "      <th></th>\n",
              "      <th>incident_id</th>\n",
              "      <th>date</th>\n",
              "      <th>state</th>\n",
              "      <th>n_killed</th>\n",
              "      <th>n_injured</th>\n",
              "      <th>n_guns_involved</th>\n",
              "    </tr>\n",
              "  </thead>\n",
              "  <tbody>\n",
              "    <tr>\n",
              "      <th>4119</th>\n",
              "      <td>1042375</td>\n",
              "      <td>2018-02-02</td>\n",
              "      <td>Pennsylvania</td>\n",
              "      <td>0</td>\n",
              "      <td>1</td>\n",
              "      <td>1.0</td>\n",
              "    </tr>\n",
              "    <tr>\n",
              "      <th>4120</th>\n",
              "      <td>1042747</td>\n",
              "      <td>2018-02-02</td>\n",
              "      <td>Indiana</td>\n",
              "      <td>0</td>\n",
              "      <td>0</td>\n",
              "      <td>1.0</td>\n",
              "    </tr>\n",
              "    <tr>\n",
              "      <th>4121</th>\n",
              "      <td>1042168</td>\n",
              "      <td>2018-02-02</td>\n",
              "      <td>Montana</td>\n",
              "      <td>0</td>\n",
              "      <td>1</td>\n",
              "      <td>1.0</td>\n",
              "    </tr>\n",
              "    <tr>\n",
              "      <th>4122</th>\n",
              "      <td>1042228</td>\n",
              "      <td>2018-02-02</td>\n",
              "      <td>South Carolina</td>\n",
              "      <td>1</td>\n",
              "      <td>1</td>\n",
              "      <td>1.0</td>\n",
              "    </tr>\n",
              "    <tr>\n",
              "      <th>4123</th>\n",
              "      <td>1041700</td>\n",
              "      <td>2018-02-02</td>\n",
              "      <td>Georgia</td>\n",
              "      <td>1</td>\n",
              "      <td>0</td>\n",
              "      <td>1.0</td>\n",
              "    </tr>\n",
              "  </tbody>\n",
              "</table>\n",
              "</div>\n",
              "      <button class=\"colab-df-convert\" onclick=\"convertToInteractive('df-6d543790-7bb5-4667-9393-28479f3b8a16')\"\n",
              "              title=\"Convert this dataframe to an interactive table.\"\n",
              "              style=\"display:none;\">\n",
              "        \n",
              "  <svg xmlns=\"http://www.w3.org/2000/svg\" height=\"24px\"viewBox=\"0 0 24 24\"\n",
              "       width=\"24px\">\n",
              "    <path d=\"M0 0h24v24H0V0z\" fill=\"none\"/>\n",
              "    <path d=\"M18.56 5.44l.94 2.06.94-2.06 2.06-.94-2.06-.94-.94-2.06-.94 2.06-2.06.94zm-11 1L8.5 8.5l.94-2.06 2.06-.94-2.06-.94L8.5 2.5l-.94 2.06-2.06.94zm10 10l.94 2.06.94-2.06 2.06-.94-2.06-.94-.94-2.06-.94 2.06-2.06.94z\"/><path d=\"M17.41 7.96l-1.37-1.37c-.4-.4-.92-.59-1.43-.59-.52 0-1.04.2-1.43.59L10.3 9.45l-7.72 7.72c-.78.78-.78 2.05 0 2.83L4 21.41c.39.39.9.59 1.41.59.51 0 1.02-.2 1.41-.59l7.78-7.78 2.81-2.81c.8-.78.8-2.07 0-2.86zM5.41 20L4 18.59l7.72-7.72 1.47 1.35L5.41 20z\"/>\n",
              "  </svg>\n",
              "      </button>\n",
              "      \n",
              "  <style>\n",
              "    .colab-df-container {\n",
              "      display:flex;\n",
              "      flex-wrap:wrap;\n",
              "      gap: 12px;\n",
              "    }\n",
              "\n",
              "    .colab-df-convert {\n",
              "      background-color: #E8F0FE;\n",
              "      border: none;\n",
              "      border-radius: 50%;\n",
              "      cursor: pointer;\n",
              "      display: none;\n",
              "      fill: #1967D2;\n",
              "      height: 32px;\n",
              "      padding: 0 0 0 0;\n",
              "      width: 32px;\n",
              "    }\n",
              "\n",
              "    .colab-df-convert:hover {\n",
              "      background-color: #E2EBFA;\n",
              "      box-shadow: 0px 1px 2px rgba(60, 64, 67, 0.3), 0px 1px 3px 1px rgba(60, 64, 67, 0.15);\n",
              "      fill: #174EA6;\n",
              "    }\n",
              "\n",
              "    [theme=dark] .colab-df-convert {\n",
              "      background-color: #3B4455;\n",
              "      fill: #D2E3FC;\n",
              "    }\n",
              "\n",
              "    [theme=dark] .colab-df-convert:hover {\n",
              "      background-color: #434B5C;\n",
              "      box-shadow: 0px 1px 3px 1px rgba(0, 0, 0, 0.15);\n",
              "      filter: drop-shadow(0px 1px 2px rgba(0, 0, 0, 0.3));\n",
              "      fill: #FFFFFF;\n",
              "    }\n",
              "  </style>\n",
              "\n",
              "      <script>\n",
              "        const buttonEl =\n",
              "          document.querySelector('#df-6d543790-7bb5-4667-9393-28479f3b8a16 button.colab-df-convert');\n",
              "        buttonEl.style.display =\n",
              "          google.colab.kernel.accessAllowed ? 'block' : 'none';\n",
              "\n",
              "        async function convertToInteractive(key) {\n",
              "          const element = document.querySelector('#df-6d543790-7bb5-4667-9393-28479f3b8a16');\n",
              "          const dataTable =\n",
              "            await google.colab.kernel.invokeFunction('convertToInteractive',\n",
              "                                                     [key], {});\n",
              "          if (!dataTable) return;\n",
              "\n",
              "          const docLinkHtml = 'Like what you see? Visit the ' +\n",
              "            '<a target=\"_blank\" href=https://colab.research.google.com/notebooks/data_table.ipynb>data table notebook</a>'\n",
              "            + ' to learn more about interactive tables.';\n",
              "          element.innerHTML = '';\n",
              "          dataTable['output_type'] = 'display_data';\n",
              "          await google.colab.output.renderOutput(dataTable, element);\n",
              "          const docLink = document.createElement('div');\n",
              "          docLink.innerHTML = docLinkHtml;\n",
              "          element.appendChild(docLink);\n",
              "        }\n",
              "      </script>\n",
              "    </div>\n",
              "  </div>\n",
              "  "
            ],
            "text/plain": [
              "      incident_id        date  ... n_injured  n_guns_involved\n",
              "4119      1042375  2018-02-02  ...         1              1.0\n",
              "4120      1042747  2018-02-02  ...         0              1.0\n",
              "4121      1042168  2018-02-02  ...         1              1.0\n",
              "4122      1042228  2018-02-02  ...         1              1.0\n",
              "4123      1041700  2018-02-02  ...         0              1.0\n",
              "\n",
              "[5 rows x 6 columns]"
            ]
          },
          "metadata": {},
          "execution_count": 174
        }
      ],
      "source": [
        "pre_gv.tail()"
      ]
    },
    {
      "cell_type": "code",
      "execution_count": null,
      "metadata": {
        "colab": {
          "base_uri": "https://localhost:8080/",
          "height": 206
        },
        "id": "eXUosJZMALvz",
        "outputId": "37f4a608-e480-4d4e-d50c-95da1536420a"
      },
      "outputs": [
        {
          "output_type": "execute_result",
          "data": {
            "text/html": [
              "\n",
              "  <div id=\"df-e3ea7690-6542-4bf3-9e40-ccf46a3d81d6\">\n",
              "    <div class=\"colab-df-container\">\n",
              "      <div>\n",
              "<style scoped>\n",
              "    .dataframe tbody tr th:only-of-type {\n",
              "        vertical-align: middle;\n",
              "    }\n",
              "\n",
              "    .dataframe tbody tr th {\n",
              "        vertical-align: top;\n",
              "    }\n",
              "\n",
              "    .dataframe thead th {\n",
              "        text-align: right;\n",
              "    }\n",
              "</style>\n",
              "<table border=\"1\" class=\"dataframe\">\n",
              "  <thead>\n",
              "    <tr style=\"text-align: right;\">\n",
              "      <th></th>\n",
              "      <th>incident_id</th>\n",
              "      <th>date</th>\n",
              "      <th>state</th>\n",
              "      <th>n_killed</th>\n",
              "      <th>n_injured</th>\n",
              "      <th>n_guns_involved</th>\n",
              "    </tr>\n",
              "  </thead>\n",
              "  <tbody>\n",
              "    <tr>\n",
              "      <th>0</th>\n",
              "      <td>1057705</td>\n",
              "      <td>2018-02-24</td>\n",
              "      <td>North Carolina</td>\n",
              "      <td>0</td>\n",
              "      <td>1</td>\n",
              "      <td>1.0</td>\n",
              "    </tr>\n",
              "    <tr>\n",
              "      <th>1</th>\n",
              "      <td>1056932</td>\n",
              "      <td>2018-02-24</td>\n",
              "      <td>Pennsylvania</td>\n",
              "      <td>0</td>\n",
              "      <td>1</td>\n",
              "      <td>1.0</td>\n",
              "    </tr>\n",
              "    <tr>\n",
              "      <th>2</th>\n",
              "      <td>1056938</td>\n",
              "      <td>2018-02-24</td>\n",
              "      <td>Texas</td>\n",
              "      <td>0</td>\n",
              "      <td>1</td>\n",
              "      <td>1.0</td>\n",
              "    </tr>\n",
              "    <tr>\n",
              "      <th>3</th>\n",
              "      <td>1056943</td>\n",
              "      <td>2018-02-24</td>\n",
              "      <td>Florida</td>\n",
              "      <td>0</td>\n",
              "      <td>1</td>\n",
              "      <td>1.0</td>\n",
              "    </tr>\n",
              "    <tr>\n",
              "      <th>4</th>\n",
              "      <td>1056924</td>\n",
              "      <td>2018-02-24</td>\n",
              "      <td>Minnesota</td>\n",
              "      <td>0</td>\n",
              "      <td>0</td>\n",
              "      <td>1.0</td>\n",
              "    </tr>\n",
              "  </tbody>\n",
              "</table>\n",
              "</div>\n",
              "      <button class=\"colab-df-convert\" onclick=\"convertToInteractive('df-e3ea7690-6542-4bf3-9e40-ccf46a3d81d6')\"\n",
              "              title=\"Convert this dataframe to an interactive table.\"\n",
              "              style=\"display:none;\">\n",
              "        \n",
              "  <svg xmlns=\"http://www.w3.org/2000/svg\" height=\"24px\"viewBox=\"0 0 24 24\"\n",
              "       width=\"24px\">\n",
              "    <path d=\"M0 0h24v24H0V0z\" fill=\"none\"/>\n",
              "    <path d=\"M18.56 5.44l.94 2.06.94-2.06 2.06-.94-2.06-.94-.94-2.06-.94 2.06-2.06.94zm-11 1L8.5 8.5l.94-2.06 2.06-.94-2.06-.94L8.5 2.5l-.94 2.06-2.06.94zm10 10l.94 2.06.94-2.06 2.06-.94-2.06-.94-.94-2.06-.94 2.06-2.06.94z\"/><path d=\"M17.41 7.96l-1.37-1.37c-.4-.4-.92-.59-1.43-.59-.52 0-1.04.2-1.43.59L10.3 9.45l-7.72 7.72c-.78.78-.78 2.05 0 2.83L4 21.41c.39.39.9.59 1.41.59.51 0 1.02-.2 1.41-.59l7.78-7.78 2.81-2.81c.8-.78.8-2.07 0-2.86zM5.41 20L4 18.59l7.72-7.72 1.47 1.35L5.41 20z\"/>\n",
              "  </svg>\n",
              "      </button>\n",
              "      \n",
              "  <style>\n",
              "    .colab-df-container {\n",
              "      display:flex;\n",
              "      flex-wrap:wrap;\n",
              "      gap: 12px;\n",
              "    }\n",
              "\n",
              "    .colab-df-convert {\n",
              "      background-color: #E8F0FE;\n",
              "      border: none;\n",
              "      border-radius: 50%;\n",
              "      cursor: pointer;\n",
              "      display: none;\n",
              "      fill: #1967D2;\n",
              "      height: 32px;\n",
              "      padding: 0 0 0 0;\n",
              "      width: 32px;\n",
              "    }\n",
              "\n",
              "    .colab-df-convert:hover {\n",
              "      background-color: #E2EBFA;\n",
              "      box-shadow: 0px 1px 2px rgba(60, 64, 67, 0.3), 0px 1px 3px 1px rgba(60, 64, 67, 0.15);\n",
              "      fill: #174EA6;\n",
              "    }\n",
              "\n",
              "    [theme=dark] .colab-df-convert {\n",
              "      background-color: #3B4455;\n",
              "      fill: #D2E3FC;\n",
              "    }\n",
              "\n",
              "    [theme=dark] .colab-df-convert:hover {\n",
              "      background-color: #434B5C;\n",
              "      box-shadow: 0px 1px 3px 1px rgba(0, 0, 0, 0.15);\n",
              "      filter: drop-shadow(0px 1px 2px rgba(0, 0, 0, 0.3));\n",
              "      fill: #FFFFFF;\n",
              "    }\n",
              "  </style>\n",
              "\n",
              "      <script>\n",
              "        const buttonEl =\n",
              "          document.querySelector('#df-e3ea7690-6542-4bf3-9e40-ccf46a3d81d6 button.colab-df-convert');\n",
              "        buttonEl.style.display =\n",
              "          google.colab.kernel.accessAllowed ? 'block' : 'none';\n",
              "\n",
              "        async function convertToInteractive(key) {\n",
              "          const element = document.querySelector('#df-e3ea7690-6542-4bf3-9e40-ccf46a3d81d6');\n",
              "          const dataTable =\n",
              "            await google.colab.kernel.invokeFunction('convertToInteractive',\n",
              "                                                     [key], {});\n",
              "          if (!dataTable) return;\n",
              "\n",
              "          const docLinkHtml = 'Like what you see? Visit the ' +\n",
              "            '<a target=\"_blank\" href=https://colab.research.google.com/notebooks/data_table.ipynb>data table notebook</a>'\n",
              "            + ' to learn more about interactive tables.';\n",
              "          element.innerHTML = '';\n",
              "          dataTable['output_type'] = 'display_data';\n",
              "          await google.colab.output.renderOutput(dataTable, element);\n",
              "          const docLink = document.createElement('div');\n",
              "          docLink.innerHTML = docLinkHtml;\n",
              "          element.appendChild(docLink);\n",
              "        }\n",
              "      </script>\n",
              "    </div>\n",
              "  </div>\n",
              "  "
            ],
            "text/plain": [
              "   incident_id        date  ... n_injured  n_guns_involved\n",
              "0      1057705  2018-02-24  ...         1              1.0\n",
              "1      1056932  2018-02-24  ...         1              1.0\n",
              "2      1056938  2018-02-24  ...         1              1.0\n",
              "3      1056943  2018-02-24  ...         1              1.0\n",
              "4      1056924  2018-02-24  ...         0              1.0\n",
              "\n",
              "[5 rows x 6 columns]"
            ]
          },
          "metadata": {},
          "execution_count": 175
        }
      ],
      "source": [
        "post_gv.head()"
      ]
    },
    {
      "cell_type": "code",
      "execution_count": null,
      "metadata": {
        "colab": {
          "base_uri": "https://localhost:8080/",
          "height": 206
        },
        "id": "llc7sY5MANjh",
        "outputId": "9231760f-e265-4f8e-d916-189e3e433463"
      },
      "outputs": [
        {
          "output_type": "execute_result",
          "data": {
            "text/html": [
              "\n",
              "  <div id=\"df-0dbf5435-e6dd-41d6-a27d-e9377baea3ab\">\n",
              "    <div class=\"colab-df-container\">\n",
              "      <div>\n",
              "<style scoped>\n",
              "    .dataframe tbody tr th:only-of-type {\n",
              "        vertical-align: middle;\n",
              "    }\n",
              "\n",
              "    .dataframe tbody tr th {\n",
              "        vertical-align: top;\n",
              "    }\n",
              "\n",
              "    .dataframe thead th {\n",
              "        text-align: right;\n",
              "    }\n",
              "</style>\n",
              "<table border=\"1\" class=\"dataframe\">\n",
              "  <thead>\n",
              "    <tr style=\"text-align: right;\">\n",
              "      <th></th>\n",
              "      <th>incident_id</th>\n",
              "      <th>date</th>\n",
              "      <th>state</th>\n",
              "      <th>n_killed</th>\n",
              "      <th>n_injured</th>\n",
              "      <th>n_guns_involved</th>\n",
              "    </tr>\n",
              "  </thead>\n",
              "  <tbody>\n",
              "    <tr>\n",
              "      <th>4747</th>\n",
              "      <td>1065829</td>\n",
              "      <td>2018-03-09</td>\n",
              "      <td>Florida</td>\n",
              "      <td>0</td>\n",
              "      <td>0</td>\n",
              "      <td>1.0</td>\n",
              "    </tr>\n",
              "    <tr>\n",
              "      <th>4748</th>\n",
              "      <td>1066571</td>\n",
              "      <td>2018-03-09</td>\n",
              "      <td>Maryland</td>\n",
              "      <td>1</td>\n",
              "      <td>0</td>\n",
              "      <td>1.0</td>\n",
              "    </tr>\n",
              "    <tr>\n",
              "      <th>4749</th>\n",
              "      <td>1066492</td>\n",
              "      <td>2018-03-09</td>\n",
              "      <td>Illinois</td>\n",
              "      <td>0</td>\n",
              "      <td>1</td>\n",
              "      <td>1.0</td>\n",
              "    </tr>\n",
              "    <tr>\n",
              "      <th>4750</th>\n",
              "      <td>1065756</td>\n",
              "      <td>2018-03-09</td>\n",
              "      <td>Texas</td>\n",
              "      <td>2</td>\n",
              "      <td>0</td>\n",
              "      <td>1.0</td>\n",
              "    </tr>\n",
              "    <tr>\n",
              "      <th>4751</th>\n",
              "      <td>1069938</td>\n",
              "      <td>2018-03-09</td>\n",
              "      <td>Maryland</td>\n",
              "      <td>0</td>\n",
              "      <td>0</td>\n",
              "      <td>1.0</td>\n",
              "    </tr>\n",
              "  </tbody>\n",
              "</table>\n",
              "</div>\n",
              "      <button class=\"colab-df-convert\" onclick=\"convertToInteractive('df-0dbf5435-e6dd-41d6-a27d-e9377baea3ab')\"\n",
              "              title=\"Convert this dataframe to an interactive table.\"\n",
              "              style=\"display:none;\">\n",
              "        \n",
              "  <svg xmlns=\"http://www.w3.org/2000/svg\" height=\"24px\"viewBox=\"0 0 24 24\"\n",
              "       width=\"24px\">\n",
              "    <path d=\"M0 0h24v24H0V0z\" fill=\"none\"/>\n",
              "    <path d=\"M18.56 5.44l.94 2.06.94-2.06 2.06-.94-2.06-.94-.94-2.06-.94 2.06-2.06.94zm-11 1L8.5 8.5l.94-2.06 2.06-.94-2.06-.94L8.5 2.5l-.94 2.06-2.06.94zm10 10l.94 2.06.94-2.06 2.06-.94-2.06-.94-.94-2.06-.94 2.06-2.06.94z\"/><path d=\"M17.41 7.96l-1.37-1.37c-.4-.4-.92-.59-1.43-.59-.52 0-1.04.2-1.43.59L10.3 9.45l-7.72 7.72c-.78.78-.78 2.05 0 2.83L4 21.41c.39.39.9.59 1.41.59.51 0 1.02-.2 1.41-.59l7.78-7.78 2.81-2.81c.8-.78.8-2.07 0-2.86zM5.41 20L4 18.59l7.72-7.72 1.47 1.35L5.41 20z\"/>\n",
              "  </svg>\n",
              "      </button>\n",
              "      \n",
              "  <style>\n",
              "    .colab-df-container {\n",
              "      display:flex;\n",
              "      flex-wrap:wrap;\n",
              "      gap: 12px;\n",
              "    }\n",
              "\n",
              "    .colab-df-convert {\n",
              "      background-color: #E8F0FE;\n",
              "      border: none;\n",
              "      border-radius: 50%;\n",
              "      cursor: pointer;\n",
              "      display: none;\n",
              "      fill: #1967D2;\n",
              "      height: 32px;\n",
              "      padding: 0 0 0 0;\n",
              "      width: 32px;\n",
              "    }\n",
              "\n",
              "    .colab-df-convert:hover {\n",
              "      background-color: #E2EBFA;\n",
              "      box-shadow: 0px 1px 2px rgba(60, 64, 67, 0.3), 0px 1px 3px 1px rgba(60, 64, 67, 0.15);\n",
              "      fill: #174EA6;\n",
              "    }\n",
              "\n",
              "    [theme=dark] .colab-df-convert {\n",
              "      background-color: #3B4455;\n",
              "      fill: #D2E3FC;\n",
              "    }\n",
              "\n",
              "    [theme=dark] .colab-df-convert:hover {\n",
              "      background-color: #434B5C;\n",
              "      box-shadow: 0px 1px 3px 1px rgba(0, 0, 0, 0.15);\n",
              "      filter: drop-shadow(0px 1px 2px rgba(0, 0, 0, 0.3));\n",
              "      fill: #FFFFFF;\n",
              "    }\n",
              "  </style>\n",
              "\n",
              "      <script>\n",
              "        const buttonEl =\n",
              "          document.querySelector('#df-0dbf5435-e6dd-41d6-a27d-e9377baea3ab button.colab-df-convert');\n",
              "        buttonEl.style.display =\n",
              "          google.colab.kernel.accessAllowed ? 'block' : 'none';\n",
              "\n",
              "        async function convertToInteractive(key) {\n",
              "          const element = document.querySelector('#df-0dbf5435-e6dd-41d6-a27d-e9377baea3ab');\n",
              "          const dataTable =\n",
              "            await google.colab.kernel.invokeFunction('convertToInteractive',\n",
              "                                                     [key], {});\n",
              "          if (!dataTable) return;\n",
              "\n",
              "          const docLinkHtml = 'Like what you see? Visit the ' +\n",
              "            '<a target=\"_blank\" href=https://colab.research.google.com/notebooks/data_table.ipynb>data table notebook</a>'\n",
              "            + ' to learn more about interactive tables.';\n",
              "          element.innerHTML = '';\n",
              "          dataTable['output_type'] = 'display_data';\n",
              "          await google.colab.output.renderOutput(dataTable, element);\n",
              "          const docLink = document.createElement('div');\n",
              "          docLink.innerHTML = docLinkHtml;\n",
              "          element.appendChild(docLink);\n",
              "        }\n",
              "      </script>\n",
              "    </div>\n",
              "  </div>\n",
              "  "
            ],
            "text/plain": [
              "      incident_id        date     state  n_killed  n_injured  n_guns_involved\n",
              "4747      1065829  2018-03-09   Florida         0          0              1.0\n",
              "4748      1066571  2018-03-09  Maryland         1          0              1.0\n",
              "4749      1066492  2018-03-09  Illinois         0          1              1.0\n",
              "4750      1065756  2018-03-09     Texas         2          0              1.0\n",
              "4751      1069938  2018-03-09  Maryland         0          0              1.0"
            ]
          },
          "metadata": {},
          "execution_count": 176
        }
      ],
      "source": [
        "post_gv.tail()"
      ]
    },
    {
      "cell_type": "markdown",
      "metadata": {
        "id": "_gzF9aOoNKXL"
      },
      "source": [
        "**Check the n's again now that the data is cleaner**"
      ]
    },
    {
      "cell_type": "code",
      "execution_count": null,
      "metadata": {
        "colab": {
          "base_uri": "https://localhost:8080/"
        },
        "id": "EcfjTsbzNOQF",
        "outputId": "a12f0b5f-09ee-4ebf-fe1b-82b28be86cf5"
      },
      "outputs": [
        {
          "output_type": "stream",
          "name": "stdout",
          "text": [
            "<class 'pandas.core.frame.DataFrame'>\n",
            "Int64Index: 6880 entries, 0 to 4123\n",
            "Data columns (total 6 columns):\n",
            " #   Column           Non-Null Count  Dtype  \n",
            "---  ------           --------------  -----  \n",
            " 0   incident_id      6880 non-null   int64  \n",
            " 1   date             6880 non-null   object \n",
            " 2   state            6880 non-null   object \n",
            " 3   n_killed         6880 non-null   int64  \n",
            " 4   n_injured        6880 non-null   int64  \n",
            " 5   n_guns_involved  6877 non-null   float64\n",
            "dtypes: float64(1), int64(3), object(2)\n",
            "memory usage: 376.2+ KB\n"
          ]
        }
      ],
      "source": [
        "pre_gv.info()"
      ]
    },
    {
      "cell_type": "code",
      "source": [
        "pre_gv.value_counts"
      ],
      "metadata": {
        "colab": {
          "base_uri": "https://localhost:8080/"
        },
        "id": "UdZnfZjxP62s",
        "outputId": "fabadc48-c064-46ac-9496-dd09beaaa8d5"
      },
      "execution_count": null,
      "outputs": [
        {
          "output_type": "execute_result",
          "data": {
            "text/plain": [
              "<bound method DataFrame.value_counts of       incident_id        date  ... n_injured  n_guns_involved\n",
              "0         1024565  2018-01-10  ...         0              1.0\n",
              "1         1025324  2018-01-10  ...         1              1.0\n",
              "2         1025382  2018-01-10  ...         0              1.0\n",
              "3         1025397  2018-01-10  ...         0              1.0\n",
              "4         1059686  2018-01-10  ...         0              1.0\n",
              "...           ...         ...  ...       ...              ...\n",
              "4119      1042375  2018-02-02  ...         1              1.0\n",
              "4120      1042747  2018-02-02  ...         0              1.0\n",
              "4121      1042168  2018-02-02  ...         1              1.0\n",
              "4122      1042228  2018-02-02  ...         1              1.0\n",
              "4123      1041700  2018-02-02  ...         0              1.0\n",
              "\n",
              "[6880 rows x 6 columns]>"
            ]
          },
          "metadata": {},
          "execution_count": 178
        }
      ]
    },
    {
      "cell_type": "code",
      "execution_count": null,
      "metadata": {
        "colab": {
          "base_uri": "https://localhost:8080/"
        },
        "id": "2N_7MhpANQgQ",
        "outputId": "5d1fb3d6-01e1-423b-cec7-7f89acc4221e"
      },
      "outputs": [
        {
          "output_type": "stream",
          "name": "stdout",
          "text": [
            "<class 'pandas.core.frame.DataFrame'>\n",
            "Int64Index: 6921 entries, 0 to 4751\n",
            "Data columns (total 6 columns):\n",
            " #   Column           Non-Null Count  Dtype  \n",
            "---  ------           --------------  -----  \n",
            " 0   incident_id      6921 non-null   int64  \n",
            " 1   date             6921 non-null   object \n",
            " 2   state            6921 non-null   object \n",
            " 3   n_killed         6921 non-null   int64  \n",
            " 4   n_injured        6921 non-null   int64  \n",
            " 5   n_guns_involved  6915 non-null   float64\n",
            "dtypes: float64(1), int64(3), object(2)\n",
            "memory usage: 378.5+ KB\n"
          ]
        }
      ],
      "source": [
        "post_gv.info()"
      ]
    },
    {
      "cell_type": "code",
      "source": [
        "post_gv.value_counts"
      ],
      "metadata": {
        "colab": {
          "base_uri": "https://localhost:8080/"
        },
        "id": "dTDA0nwSQRgd",
        "outputId": "0bf75334-bcda-4882-900a-239277421830"
      },
      "execution_count": null,
      "outputs": [
        {
          "output_type": "execute_result",
          "data": {
            "text/plain": [
              "<bound method DataFrame.value_counts of       incident_id        date  ... n_injured  n_guns_involved\n",
              "0         1057705  2018-02-24  ...         1              1.0\n",
              "1         1056932  2018-02-24  ...         1              1.0\n",
              "2         1056938  2018-02-24  ...         1              1.0\n",
              "3         1056943  2018-02-24  ...         1              1.0\n",
              "4         1056924  2018-02-24  ...         0              1.0\n",
              "...           ...         ...  ...       ...              ...\n",
              "4747      1065829  2018-03-09  ...         0              1.0\n",
              "4748      1066571  2018-03-09  ...         0              1.0\n",
              "4749      1066492  2018-03-09  ...         1              1.0\n",
              "4750      1065756  2018-03-09  ...         0              1.0\n",
              "4751      1069938  2018-03-09  ...         0              1.0\n",
              "\n",
              "[6921 rows x 6 columns]>"
            ]
          },
          "metadata": {},
          "execution_count": 180
        }
      ]
    },
    {
      "cell_type": "markdown",
      "metadata": {
        "id": "HAG23lqtNWfw"
      },
      "source": [
        "This shows that there is a small number of NaN values for the number of guns involved. To address this, I will fill all of those NaN values with the mean number of guns utilized before and after the Parkland shooting."
      ]
    },
    {
      "cell_type": "code",
      "execution_count": null,
      "metadata": {
        "colab": {
          "base_uri": "https://localhost:8080/",
          "height": 300
        },
        "id": "nCHljNhKOVY7",
        "outputId": "a0bfa3de-c320-4b4d-ca40-36aca976dd0f"
      },
      "outputs": [
        {
          "output_type": "execute_result",
          "data": {
            "text/html": [
              "\n",
              "  <div id=\"df-3bbb4c69-ae8f-4d5f-842e-70ba07133293\">\n",
              "    <div class=\"colab-df-container\">\n",
              "      <div>\n",
              "<style scoped>\n",
              "    .dataframe tbody tr th:only-of-type {\n",
              "        vertical-align: middle;\n",
              "    }\n",
              "\n",
              "    .dataframe tbody tr th {\n",
              "        vertical-align: top;\n",
              "    }\n",
              "\n",
              "    .dataframe thead th {\n",
              "        text-align: right;\n",
              "    }\n",
              "</style>\n",
              "<table border=\"1\" class=\"dataframe\">\n",
              "  <thead>\n",
              "    <tr style=\"text-align: right;\">\n",
              "      <th></th>\n",
              "      <th>incident_id</th>\n",
              "      <th>n_killed</th>\n",
              "      <th>n_injured</th>\n",
              "      <th>n_guns_involved</th>\n",
              "    </tr>\n",
              "  </thead>\n",
              "  <tbody>\n",
              "    <tr>\n",
              "      <th>count</th>\n",
              "      <td>6.880000e+03</td>\n",
              "      <td>6880.000000</td>\n",
              "      <td>6880.000000</td>\n",
              "      <td>6877.000000</td>\n",
              "    </tr>\n",
              "    <tr>\n",
              "      <th>mean</th>\n",
              "      <td>1.035159e+06</td>\n",
              "      <td>0.272529</td>\n",
              "      <td>0.465988</td>\n",
              "      <td>1.275556</td>\n",
              "    </tr>\n",
              "    <tr>\n",
              "      <th>std</th>\n",
              "      <td>9.910237e+03</td>\n",
              "      <td>0.521386</td>\n",
              "      <td>0.673037</td>\n",
              "      <td>2.094024</td>\n",
              "    </tr>\n",
              "    <tr>\n",
              "      <th>min</th>\n",
              "      <td>1.018018e+06</td>\n",
              "      <td>0.000000</td>\n",
              "      <td>0.000000</td>\n",
              "      <td>1.000000</td>\n",
              "    </tr>\n",
              "    <tr>\n",
              "      <th>25%</th>\n",
              "      <td>1.026796e+06</td>\n",
              "      <td>0.000000</td>\n",
              "      <td>0.000000</td>\n",
              "      <td>1.000000</td>\n",
              "    </tr>\n",
              "    <tr>\n",
              "      <th>50%</th>\n",
              "      <td>1.035096e+06</td>\n",
              "      <td>0.000000</td>\n",
              "      <td>0.000000</td>\n",
              "      <td>1.000000</td>\n",
              "    </tr>\n",
              "    <tr>\n",
              "      <th>75%</th>\n",
              "      <td>1.042996e+06</td>\n",
              "      <td>0.000000</td>\n",
              "      <td>1.000000</td>\n",
              "      <td>1.000000</td>\n",
              "    </tr>\n",
              "    <tr>\n",
              "      <th>max</th>\n",
              "      <td>1.080973e+06</td>\n",
              "      <td>5.000000</td>\n",
              "      <td>14.000000</td>\n",
              "      <td>50.000000</td>\n",
              "    </tr>\n",
              "  </tbody>\n",
              "</table>\n",
              "</div>\n",
              "      <button class=\"colab-df-convert\" onclick=\"convertToInteractive('df-3bbb4c69-ae8f-4d5f-842e-70ba07133293')\"\n",
              "              title=\"Convert this dataframe to an interactive table.\"\n",
              "              style=\"display:none;\">\n",
              "        \n",
              "  <svg xmlns=\"http://www.w3.org/2000/svg\" height=\"24px\"viewBox=\"0 0 24 24\"\n",
              "       width=\"24px\">\n",
              "    <path d=\"M0 0h24v24H0V0z\" fill=\"none\"/>\n",
              "    <path d=\"M18.56 5.44l.94 2.06.94-2.06 2.06-.94-2.06-.94-.94-2.06-.94 2.06-2.06.94zm-11 1L8.5 8.5l.94-2.06 2.06-.94-2.06-.94L8.5 2.5l-.94 2.06-2.06.94zm10 10l.94 2.06.94-2.06 2.06-.94-2.06-.94-.94-2.06-.94 2.06-2.06.94z\"/><path d=\"M17.41 7.96l-1.37-1.37c-.4-.4-.92-.59-1.43-.59-.52 0-1.04.2-1.43.59L10.3 9.45l-7.72 7.72c-.78.78-.78 2.05 0 2.83L4 21.41c.39.39.9.59 1.41.59.51 0 1.02-.2 1.41-.59l7.78-7.78 2.81-2.81c.8-.78.8-2.07 0-2.86zM5.41 20L4 18.59l7.72-7.72 1.47 1.35L5.41 20z\"/>\n",
              "  </svg>\n",
              "      </button>\n",
              "      \n",
              "  <style>\n",
              "    .colab-df-container {\n",
              "      display:flex;\n",
              "      flex-wrap:wrap;\n",
              "      gap: 12px;\n",
              "    }\n",
              "\n",
              "    .colab-df-convert {\n",
              "      background-color: #E8F0FE;\n",
              "      border: none;\n",
              "      border-radius: 50%;\n",
              "      cursor: pointer;\n",
              "      display: none;\n",
              "      fill: #1967D2;\n",
              "      height: 32px;\n",
              "      padding: 0 0 0 0;\n",
              "      width: 32px;\n",
              "    }\n",
              "\n",
              "    .colab-df-convert:hover {\n",
              "      background-color: #E2EBFA;\n",
              "      box-shadow: 0px 1px 2px rgba(60, 64, 67, 0.3), 0px 1px 3px 1px rgba(60, 64, 67, 0.15);\n",
              "      fill: #174EA6;\n",
              "    }\n",
              "\n",
              "    [theme=dark] .colab-df-convert {\n",
              "      background-color: #3B4455;\n",
              "      fill: #D2E3FC;\n",
              "    }\n",
              "\n",
              "    [theme=dark] .colab-df-convert:hover {\n",
              "      background-color: #434B5C;\n",
              "      box-shadow: 0px 1px 3px 1px rgba(0, 0, 0, 0.15);\n",
              "      filter: drop-shadow(0px 1px 2px rgba(0, 0, 0, 0.3));\n",
              "      fill: #FFFFFF;\n",
              "    }\n",
              "  </style>\n",
              "\n",
              "      <script>\n",
              "        const buttonEl =\n",
              "          document.querySelector('#df-3bbb4c69-ae8f-4d5f-842e-70ba07133293 button.colab-df-convert');\n",
              "        buttonEl.style.display =\n",
              "          google.colab.kernel.accessAllowed ? 'block' : 'none';\n",
              "\n",
              "        async function convertToInteractive(key) {\n",
              "          const element = document.querySelector('#df-3bbb4c69-ae8f-4d5f-842e-70ba07133293');\n",
              "          const dataTable =\n",
              "            await google.colab.kernel.invokeFunction('convertToInteractive',\n",
              "                                                     [key], {});\n",
              "          if (!dataTable) return;\n",
              "\n",
              "          const docLinkHtml = 'Like what you see? Visit the ' +\n",
              "            '<a target=\"_blank\" href=https://colab.research.google.com/notebooks/data_table.ipynb>data table notebook</a>'\n",
              "            + ' to learn more about interactive tables.';\n",
              "          element.innerHTML = '';\n",
              "          dataTable['output_type'] = 'display_data';\n",
              "          await google.colab.output.renderOutput(dataTable, element);\n",
              "          const docLink = document.createElement('div');\n",
              "          docLink.innerHTML = docLinkHtml;\n",
              "          element.appendChild(docLink);\n",
              "        }\n",
              "      </script>\n",
              "    </div>\n",
              "  </div>\n",
              "  "
            ],
            "text/plain": [
              "        incident_id     n_killed    n_injured  n_guns_involved\n",
              "count  6.880000e+03  6880.000000  6880.000000      6877.000000\n",
              "mean   1.035159e+06     0.272529     0.465988         1.275556\n",
              "std    9.910237e+03     0.521386     0.673037         2.094024\n",
              "min    1.018018e+06     0.000000     0.000000         1.000000\n",
              "25%    1.026796e+06     0.000000     0.000000         1.000000\n",
              "50%    1.035096e+06     0.000000     0.000000         1.000000\n",
              "75%    1.042996e+06     0.000000     1.000000         1.000000\n",
              "max    1.080973e+06     5.000000    14.000000        50.000000"
            ]
          },
          "metadata": {},
          "execution_count": 181
        }
      ],
      "source": [
        "pre_gv.describe()"
      ]
    },
    {
      "cell_type": "code",
      "execution_count": null,
      "metadata": {
        "colab": {
          "base_uri": "https://localhost:8080/"
        },
        "id": "itYBjQ8dNVjm",
        "outputId": "80ea1083-642d-496b-c34d-e9ab13ceaad9"
      },
      "outputs": [
        {
          "output_type": "stream",
          "name": "stdout",
          "text": [
            "<class 'pandas.core.frame.DataFrame'>\n",
            "Int64Index: 6880 entries, 0 to 4123\n",
            "Data columns (total 6 columns):\n",
            " #   Column           Non-Null Count  Dtype  \n",
            "---  ------           --------------  -----  \n",
            " 0   incident_id      6880 non-null   int64  \n",
            " 1   date             6880 non-null   object \n",
            " 2   state            6880 non-null   object \n",
            " 3   n_killed         6880 non-null   int64  \n",
            " 4   n_injured        6880 non-null   int64  \n",
            " 5   n_guns_involved  6880 non-null   float64\n",
            "dtypes: float64(1), int64(3), object(2)\n",
            "memory usage: 376.2+ KB\n"
          ]
        },
        {
          "output_type": "stream",
          "name": "stderr",
          "text": [
            "/usr/local/lib/python3.7/dist-packages/pandas/core/frame.py:5182: SettingWithCopyWarning: \n",
            "A value is trying to be set on a copy of a slice from a DataFrame\n",
            "\n",
            "See the caveats in the documentation: https://pandas.pydata.org/pandas-docs/stable/user_guide/indexing.html#returning-a-view-versus-a-copy\n",
            "  downcast=downcast,\n"
          ]
        }
      ],
      "source": [
        "mean_pre = 1.27556\n",
        "pre_gv.fillna(value=mean_pre, inplace=True)\n",
        "pre_gv.info()"
      ]
    },
    {
      "cell_type": "code",
      "execution_count": null,
      "metadata": {
        "colab": {
          "base_uri": "https://localhost:8080/",
          "height": 300
        },
        "id": "68romjgaOxFw",
        "outputId": "c10ef17e-820a-4a78-e4b9-66b863e8da9a"
      },
      "outputs": [
        {
          "output_type": "execute_result",
          "data": {
            "text/html": [
              "\n",
              "  <div id=\"df-ab05e342-0bd5-4c0a-8cba-b820f57056f6\">\n",
              "    <div class=\"colab-df-container\">\n",
              "      <div>\n",
              "<style scoped>\n",
              "    .dataframe tbody tr th:only-of-type {\n",
              "        vertical-align: middle;\n",
              "    }\n",
              "\n",
              "    .dataframe tbody tr th {\n",
              "        vertical-align: top;\n",
              "    }\n",
              "\n",
              "    .dataframe thead th {\n",
              "        text-align: right;\n",
              "    }\n",
              "</style>\n",
              "<table border=\"1\" class=\"dataframe\">\n",
              "  <thead>\n",
              "    <tr style=\"text-align: right;\">\n",
              "      <th></th>\n",
              "      <th>incident_id</th>\n",
              "      <th>n_killed</th>\n",
              "      <th>n_injured</th>\n",
              "      <th>n_guns_involved</th>\n",
              "    </tr>\n",
              "  </thead>\n",
              "  <tbody>\n",
              "    <tr>\n",
              "      <th>count</th>\n",
              "      <td>6.921000e+03</td>\n",
              "      <td>6921.000000</td>\n",
              "      <td>6921.000000</td>\n",
              "      <td>6915.000000</td>\n",
              "    </tr>\n",
              "    <tr>\n",
              "      <th>mean</th>\n",
              "      <td>1.066886e+06</td>\n",
              "      <td>0.237104</td>\n",
              "      <td>0.425950</td>\n",
              "      <td>1.268402</td>\n",
              "    </tr>\n",
              "    <tr>\n",
              "      <th>std</th>\n",
              "      <td>9.330735e+03</td>\n",
              "      <td>0.500854</td>\n",
              "      <td>0.645605</td>\n",
              "      <td>1.871248</td>\n",
              "    </tr>\n",
              "    <tr>\n",
              "      <th>min</th>\n",
              "      <td>1.049863e+06</td>\n",
              "      <td>0.000000</td>\n",
              "      <td>0.000000</td>\n",
              "      <td>1.000000</td>\n",
              "    </tr>\n",
              "    <tr>\n",
              "      <th>25%</th>\n",
              "      <td>1.058627e+06</td>\n",
              "      <td>0.000000</td>\n",
              "      <td>0.000000</td>\n",
              "      <td>1.000000</td>\n",
              "    </tr>\n",
              "    <tr>\n",
              "      <th>50%</th>\n",
              "      <td>1.067134e+06</td>\n",
              "      <td>0.000000</td>\n",
              "      <td>0.000000</td>\n",
              "      <td>1.000000</td>\n",
              "    </tr>\n",
              "    <tr>\n",
              "      <th>75%</th>\n",
              "      <td>1.074957e+06</td>\n",
              "      <td>0.000000</td>\n",
              "      <td>1.000000</td>\n",
              "      <td>1.000000</td>\n",
              "    </tr>\n",
              "    <tr>\n",
              "      <th>max</th>\n",
              "      <td>1.083472e+06</td>\n",
              "      <td>5.000000</td>\n",
              "      <td>7.000000</td>\n",
              "      <td>48.000000</td>\n",
              "    </tr>\n",
              "  </tbody>\n",
              "</table>\n",
              "</div>\n",
              "      <button class=\"colab-df-convert\" onclick=\"convertToInteractive('df-ab05e342-0bd5-4c0a-8cba-b820f57056f6')\"\n",
              "              title=\"Convert this dataframe to an interactive table.\"\n",
              "              style=\"display:none;\">\n",
              "        \n",
              "  <svg xmlns=\"http://www.w3.org/2000/svg\" height=\"24px\"viewBox=\"0 0 24 24\"\n",
              "       width=\"24px\">\n",
              "    <path d=\"M0 0h24v24H0V0z\" fill=\"none\"/>\n",
              "    <path d=\"M18.56 5.44l.94 2.06.94-2.06 2.06-.94-2.06-.94-.94-2.06-.94 2.06-2.06.94zm-11 1L8.5 8.5l.94-2.06 2.06-.94-2.06-.94L8.5 2.5l-.94 2.06-2.06.94zm10 10l.94 2.06.94-2.06 2.06-.94-2.06-.94-.94-2.06-.94 2.06-2.06.94z\"/><path d=\"M17.41 7.96l-1.37-1.37c-.4-.4-.92-.59-1.43-.59-.52 0-1.04.2-1.43.59L10.3 9.45l-7.72 7.72c-.78.78-.78 2.05 0 2.83L4 21.41c.39.39.9.59 1.41.59.51 0 1.02-.2 1.41-.59l7.78-7.78 2.81-2.81c.8-.78.8-2.07 0-2.86zM5.41 20L4 18.59l7.72-7.72 1.47 1.35L5.41 20z\"/>\n",
              "  </svg>\n",
              "      </button>\n",
              "      \n",
              "  <style>\n",
              "    .colab-df-container {\n",
              "      display:flex;\n",
              "      flex-wrap:wrap;\n",
              "      gap: 12px;\n",
              "    }\n",
              "\n",
              "    .colab-df-convert {\n",
              "      background-color: #E8F0FE;\n",
              "      border: none;\n",
              "      border-radius: 50%;\n",
              "      cursor: pointer;\n",
              "      display: none;\n",
              "      fill: #1967D2;\n",
              "      height: 32px;\n",
              "      padding: 0 0 0 0;\n",
              "      width: 32px;\n",
              "    }\n",
              "\n",
              "    .colab-df-convert:hover {\n",
              "      background-color: #E2EBFA;\n",
              "      box-shadow: 0px 1px 2px rgba(60, 64, 67, 0.3), 0px 1px 3px 1px rgba(60, 64, 67, 0.15);\n",
              "      fill: #174EA6;\n",
              "    }\n",
              "\n",
              "    [theme=dark] .colab-df-convert {\n",
              "      background-color: #3B4455;\n",
              "      fill: #D2E3FC;\n",
              "    }\n",
              "\n",
              "    [theme=dark] .colab-df-convert:hover {\n",
              "      background-color: #434B5C;\n",
              "      box-shadow: 0px 1px 3px 1px rgba(0, 0, 0, 0.15);\n",
              "      filter: drop-shadow(0px 1px 2px rgba(0, 0, 0, 0.3));\n",
              "      fill: #FFFFFF;\n",
              "    }\n",
              "  </style>\n",
              "\n",
              "      <script>\n",
              "        const buttonEl =\n",
              "          document.querySelector('#df-ab05e342-0bd5-4c0a-8cba-b820f57056f6 button.colab-df-convert');\n",
              "        buttonEl.style.display =\n",
              "          google.colab.kernel.accessAllowed ? 'block' : 'none';\n",
              "\n",
              "        async function convertToInteractive(key) {\n",
              "          const element = document.querySelector('#df-ab05e342-0bd5-4c0a-8cba-b820f57056f6');\n",
              "          const dataTable =\n",
              "            await google.colab.kernel.invokeFunction('convertToInteractive',\n",
              "                                                     [key], {});\n",
              "          if (!dataTable) return;\n",
              "\n",
              "          const docLinkHtml = 'Like what you see? Visit the ' +\n",
              "            '<a target=\"_blank\" href=https://colab.research.google.com/notebooks/data_table.ipynb>data table notebook</a>'\n",
              "            + ' to learn more about interactive tables.';\n",
              "          element.innerHTML = '';\n",
              "          dataTable['output_type'] = 'display_data';\n",
              "          await google.colab.output.renderOutput(dataTable, element);\n",
              "          const docLink = document.createElement('div');\n",
              "          docLink.innerHTML = docLinkHtml;\n",
              "          element.appendChild(docLink);\n",
              "        }\n",
              "      </script>\n",
              "    </div>\n",
              "  </div>\n",
              "  "
            ],
            "text/plain": [
              "        incident_id     n_killed    n_injured  n_guns_involved\n",
              "count  6.921000e+03  6921.000000  6921.000000      6915.000000\n",
              "mean   1.066886e+06     0.237104     0.425950         1.268402\n",
              "std    9.330735e+03     0.500854     0.645605         1.871248\n",
              "min    1.049863e+06     0.000000     0.000000         1.000000\n",
              "25%    1.058627e+06     0.000000     0.000000         1.000000\n",
              "50%    1.067134e+06     0.000000     0.000000         1.000000\n",
              "75%    1.074957e+06     0.000000     1.000000         1.000000\n",
              "max    1.083472e+06     5.000000     7.000000        48.000000"
            ]
          },
          "metadata": {},
          "execution_count": 183
        }
      ],
      "source": [
        "post_gv.describe()"
      ]
    },
    {
      "cell_type": "code",
      "execution_count": null,
      "metadata": {
        "colab": {
          "base_uri": "https://localhost:8080/"
        },
        "id": "cKUeSO9ZQhnm",
        "outputId": "0ff202f8-45d2-4d0b-db58-7f22c4276b3b"
      },
      "outputs": [
        {
          "output_type": "stream",
          "name": "stdout",
          "text": [
            "<class 'pandas.core.frame.DataFrame'>\n",
            "Int64Index: 6921 entries, 0 to 4751\n",
            "Data columns (total 6 columns):\n",
            " #   Column           Non-Null Count  Dtype  \n",
            "---  ------           --------------  -----  \n",
            " 0   incident_id      6921 non-null   int64  \n",
            " 1   date             6921 non-null   object \n",
            " 2   state            6921 non-null   object \n",
            " 3   n_killed         6921 non-null   int64  \n",
            " 4   n_injured        6921 non-null   int64  \n",
            " 5   n_guns_involved  6921 non-null   float64\n",
            "dtypes: float64(1), int64(3), object(2)\n",
            "memory usage: 378.5+ KB\n"
          ]
        },
        {
          "output_type": "stream",
          "name": "stderr",
          "text": [
            "/usr/local/lib/python3.7/dist-packages/pandas/core/frame.py:5182: SettingWithCopyWarning: \n",
            "A value is trying to be set on a copy of a slice from a DataFrame\n",
            "\n",
            "See the caveats in the documentation: https://pandas.pydata.org/pandas-docs/stable/user_guide/indexing.html#returning-a-view-versus-a-copy\n",
            "  downcast=downcast,\n"
          ]
        }
      ],
      "source": [
        "mean_post = 1.2684\n",
        "post_gv.fillna(value=mean_post, inplace=True)\n",
        "post_gv.info()"
      ]
    },
    {
      "cell_type": "markdown",
      "metadata": {
        "id": "NVJBIx1EDoJP"
      },
      "source": [
        "**Validate against an external data source**\n",
        "\n",
        "\n",
        "Although one month following the Parkland may not be enough time to fully understand the aftermath of the event on gun control, it is a limit of the dataset provided. However, according to Vox.com, there is indication that many states enacted new gun control laws quickly following the Parkland shooting: \"According to the Giffords Law Center (which supports stricter gun laws), 26 states and Washington, DC, enacted a total of 67 new gun control laws this year[2018]  — more than triple the number of stricter gun laws enacted in 2017\" (Lopez, 2018). Ideally, this would indicate a decrease in gun violence incidents, or the severity of gun violence incidents, following the Parkland shooting. \n",
        "\n",
        "Reference: \n",
        "Lopez, G. (2018, December 26). How the Parkland shooting changed America's gun debate. Retrieved from https://www.vox.com/2018/12/26/18145305/gun-control-violence-parkland-effect-2018"
      ]
    },
    {
      "cell_type": "markdown",
      "metadata": {
        "id": "i1GoXECJ5rAX"
      },
      "source": [
        "# Data Visualizations\n"
      ]
    },
    {
      "cell_type": "code",
      "execution_count": null,
      "metadata": {
        "colab": {
          "base_uri": "https://localhost:8080/",
          "height": 325
        },
        "id": "9KiXk2B56Ulr",
        "outputId": "8eb63dfe-6222-427a-d9e3-587db8ba14a4"
      },
      "outputs": [
        {
          "output_type": "execute_result",
          "data": {
            "text/plain": [
              "Text(0.5, 0.98, 'Number Killed Per GW Incident Pre and Post Parkland')"
            ]
          },
          "metadata": {},
          "execution_count": 185
        },
        {
          "output_type": "display_data",
          "data": {
            "image/png": "[encoded data removed]",
            "text/plain": [
              "<Figure size 432x288 with 2 Axes>"
            ]
          },
          "metadata": {
            "needs_background": "light"
          }
        }
      ],
      "source": [
        "fig, axs = plt.subplots(ncols=2)\n",
        "sns.scatterplot(x='date', y='n_killed', data=pre_gv, ax=axs[0], color='#f556f5').set_title('Pre Parkland')\n",
        "sns.scatterplot(x='date', y='n_killed', data=post_gv, ax=axs[1],color='#f556f5').set_title('Post Parkland')\n",
        "fig.suptitle('Number Killed Per GW Incident Pre and Post Parkland')\n"
      ]
    },
    {
      "cell_type": "code",
      "source": [
        "# information about patches from https://matplotlib.org/stable/tutorials/intermediate/legend_guide.html\n",
        "\n",
        "pre_gv['n_killed'].value_counts().plot(kind='barh', color='r')\n",
        "post_gv['n_killed'].value_counts().plot(kind='barh')\n",
        "plt.xlabel('number of events')\n",
        "plt.ylabel('number killed')\n",
        "red_patch = mpatches.Patch(color='red', label='Pre Parkland')\n",
        "blue_patch = mpatches.Patch(color='blue', label='Pre Parkland')\n",
        "plt.legend(handles=[red_patch, blue_patch])\n",
        "plt.title('Total Number Killed Per Incident Pre and Post Parkland')\n",
        "plt.show()"
      ],
      "metadata": {
        "colab": {
          "base_uri": "https://localhost:8080/",
          "height": 295
        },
        "id": "TtQ9cQ8wYHkV",
        "outputId": "fc38d178-0704-4ee9-98a7-52f0d39013d8"
      },
      "execution_count": null,
      "outputs": [
        {
          "output_type": "display_data",
          "data": {
            "image/png": "[encoded data removed]",
            "text/plain": [
              "<Figure size 432x288 with 1 Axes>"
            ]
          },
          "metadata": {
            "needs_background": "light"
          }
        }
      ]
    },
    {
      "cell_type": "code",
      "execution_count": null,
      "metadata": {
        "colab": {
          "base_uri": "https://localhost:8080/",
          "height": 325
        },
        "id": "YcL_7EHY9wKv",
        "outputId": "fbe23b78-4cde-4eb4-df0c-6e0ad84e1164"
      },
      "outputs": [
        {
          "output_type": "execute_result",
          "data": {
            "text/plain": [
              "Text(0.5, 0.98, 'Number Injured Per GW Incident Pre and Post Parkland')"
            ]
          },
          "metadata": {},
          "execution_count": 187
        },
        {
          "output_type": "display_data",
          "data": {
            "image/png": "[encoded data removed]",
            "text/plain": [
              "<Figure size 432x288 with 2 Axes>"
            ]
          },
          "metadata": {
            "needs_background": "light"
          }
        }
      ],
      "source": [
        "fig, axs = plt.subplots(ncols=2)\n",
        "sns.scatterplot(x='date', y='n_injured', data=pre_gv, ax=axs[0], color='#f556f5').set_title('Pre Parkland')\n",
        "sns.scatterplot(x='date', y='n_injured', data=post_gv, ax=axs[1],color='#f556f5').set_title('Post Parkland')\n",
        "fig.suptitle('Number Injured Per GW Incident Pre and Post Parkland')"
      ]
    },
    {
      "cell_type": "code",
      "source": [
        "pre_gv['n_injured'].value_counts().plot(kind='barh', color='r')\n",
        "post_gv['n_injured'].value_counts().plot(kind='barh')\n",
        "plt.xlabel('number of events')\n",
        "plt.ylabel('number injured')\n",
        "red_patch = mpatches.Patch(color='red', label='Pre Parkland')\n",
        "blue_patch = mpatches.Patch(color='blue', label='Pre Parkland')\n",
        "plt.legend(handles=[red_patch, blue_patch])\n",
        "plt.title('Total Number Injured Per Incident Pre and Post Parkland')\n",
        "plt.show()"
      ],
      "metadata": {
        "colab": {
          "base_uri": "https://localhost:8080/",
          "height": 295
        },
        "id": "p7ql2UTjbLun",
        "outputId": "f260de49-c494-4459-9e03-cd8cbfec1d66"
      },
      "execution_count": null,
      "outputs": [
        {
          "output_type": "display_data",
          "data": {
            "image/png": "[encoded data removed]",
            "text/plain": [
              "<Figure size 432x288 with 1 Axes>"
            ]
          },
          "metadata": {
            "needs_background": "light"
          }
        }
      ]
    },
    {
      "cell_type": "code",
      "execution_count": null,
      "metadata": {
        "colab": {
          "base_uri": "https://localhost:8080/",
          "height": 325
        },
        "id": "Xr-YIR_A_ZAw",
        "outputId": "bfa451b1-2b58-483e-8bf2-b8afb18cedbf"
      },
      "outputs": [
        {
          "output_type": "execute_result",
          "data": {
            "text/plain": [
              "Text(0.5, 0.98, 'Number of Guns Involved Per GW Incident Pre and Post Parkland')"
            ]
          },
          "metadata": {},
          "execution_count": 189
        },
        {
          "output_type": "display_data",
          "data": {
            "image/png": "[encoded data removed]",
            "text/plain": [
              "<Figure size 432x288 with 2 Axes>"
            ]
          },
          "metadata": {
            "needs_background": "light"
          }
        }
      ],
      "source": [
        "fig, axs = plt.subplots(ncols=2)\n",
        "sns.scatterplot(x='date', y='n_guns_involved', data=pre_gv, ax=axs[0], color='#f556f5').set_title('Pre Parkland')\n",
        "sns.scatterplot(x='date', y='n_guns_involved', data=post_gv, ax=axs[1],color='#f556f5').set_title('Post Parkland')\n",
        "fig.suptitle('Number of Guns Involved Per GW Incident Pre and Post Parkland')"
      ]
    },
    {
      "cell_type": "code",
      "source": [
        "post_gv['n_guns_involved'].value_counts().plot(kind='barh')\n",
        "pre_gv['n_guns_involved'].value_counts().plot(kind='barh', color='r')\n",
        "\n",
        "plt.xlabel('number of events')\n",
        "plt.ylabel('number of guns')\n",
        "red_patch = mpatches.Patch(color='red', label='Pre Parkland')\n",
        "blue_patch = mpatches.Patch(color='blue', label='Pre Parkland')\n",
        "plt.legend(handles=[red_patch, blue_patch])\n",
        "plt.ylim([0,6])\n",
        "plt.title('Total Number of Guns Used Pre and Post Parkland')\n",
        "plt.show()"
      ],
      "metadata": {
        "colab": {
          "base_uri": "https://localhost:8080/",
          "height": 295
        },
        "id": "HEMFb4bobgG-",
        "outputId": "7c2d3e65-5c8b-4ca3-8371-0f55e1f78683"
      },
      "execution_count": null,
      "outputs": [
        {
          "output_type": "display_data",
          "data": {
            "image/png": "[encoded data removed]",
            "text/plain": [
              "<Figure size 432x288 with 1 Axes>"
            ]
          },
          "metadata": {
            "needs_background": "light"
          }
        }
      ]
    },
    {
      "cell_type": "markdown",
      "metadata": {
        "id": "7r4Rc8WHJ7ce"
      },
      "source": [
        "#Statistical Methods"
      ]
    },
    {
      "cell_type": "markdown",
      "metadata": {
        "id": "kkM_tzvQF--h"
      },
      "source": [
        "For each separate dependent variable, I am going to run t-tests to see if there is a statistical difference in gun violence before and after the Parkland shooting."
      ]
    },
    {
      "cell_type": "code",
      "execution_count": null,
      "metadata": {
        "colab": {
          "base_uri": "https://localhost:8080/"
        },
        "id": "8_RwVV1DFqZ5",
        "outputId": "c66795a4-cba3-4dfe-c568-995d87354250"
      },
      "outputs": [
        {
          "output_type": "stream",
          "name": "stdout",
          "text": [
            "T Score: 4.070466389151461\n",
            "P value: 4.718059006577096e-05\n"
          ]
        }
      ],
      "source": [
        "# First, check for a difference in number killed:\n",
        "t_score, p_value = ttest_ind(pre_gv['n_killed'].to_list(), post_gv['n_killed'].to_list())\n",
        "print('T Score: {}'.format(t_score))\n",
        "print('P value: {}'.format(p_value))"
      ]
    },
    {
      "cell_type": "code",
      "execution_count": null,
      "metadata": {
        "colab": {
          "base_uri": "https://localhost:8080/"
        },
        "id": "xmmtU93JM2Q5",
        "outputId": "87dc89d3-ef5a-400e-df07-bf7e26901a76"
      },
      "outputs": [
        {
          "output_type": "stream",
          "name": "stdout",
          "text": [
            "T Score: 3.566445176603505\n",
            "P value: 0.0003630812853793317\n"
          ]
        }
      ],
      "source": [
        "# Next, check for a difference in number injured:\n",
        "t_score, p_value = ttest_ind(pre_gv['n_injured'].to_list(), post_gv['n_injured'].to_list())\n",
        "print('T Score: {}'.format(t_score))\n",
        "print('P value: {}'.format(p_value))"
      ]
    },
    {
      "cell_type": "code",
      "execution_count": null,
      "metadata": {
        "colab": {
          "base_uri": "https://localhost:8080/"
        },
        "id": "WUeljxOjM7-H",
        "outputId": "afcba718-57c7-447b-fd0a-c9e8e57e93a1"
      },
      "outputs": [
        {
          "output_type": "stream",
          "name": "stdout",
          "text": [
            "T Score: 0.21172136642498995\n",
            "P value: 0.8323275447886762\n"
          ]
        }
      ],
      "source": [
        "# First, check for a difference in number of guns:\n",
        "t_score, p_value = ttest_ind(pre_gv['n_guns_involved'].to_list(), post_gv['n_guns_involved'].to_list())\n",
        "print('T Score: {}'.format(t_score))\n",
        "print('P value: {}'.format(p_value))"
      ]
    },
    {
      "cell_type": "markdown",
      "metadata": {
        "id": "d5hZjtmeJ93n"
      },
      "source": [
        "# Write-Up and Evaluation\n",
        "\n",
        "\n",
        "The dataset analyzed in this report contained extensive data about specific incidents of gun violence in the US from January 2013 through March 2018. Each incident contains information about the event- such as, location, number killed, guns involved, participants involved, news sources related to the incident, congressional information, and more. \n",
        "\n",
        "The tragic Parkland shooting on February 14, 2018, was the deadliest school shooting in American history and incited discussions and protests about the role guns play in American society. By utilizing the gun violence dataset, we can better understand the incidents leading up to this event and the incidents following the event to see if such a tragic and intense incident changed gun violence incidents in the US. Gun violence is a tragic problem the US faces, but Parkland in particular, due to its location and magnitude of tragedy, incited many protests, nationwide school walkouts, and calls-to-action about gun control and the Second Ammendment of the U.S. Constitution. By investigating the differences in gun violence preceding and following the Parkland shooting, we can shine light on if any changes followed this tragedy- whether positive in the form of stronger gun control and prevention of gun violence, or negative in that it tragically inspired further tragedy.\n",
        "\n",
        "**Question:** How did gun violence change before and after the Parkland shooting?\n",
        "\n",
        "In order to investigate this question, I examined how certain aspects pertaining to incidents compared before and after the Parkland shooting. The independent variable utilized is date, specifically classified by if an event is before or after Parkland. The dependent variables investigated are the number killed, number injured, and the number of guns involved. I also wanted to investigate if the guns involved were stolen or obtained legally, the age group of participants, and the gender of participants, however, because of the issue with data cleaning strings as outlined below, these variables were not included in the investigation. The reason why number killed, number injured, and number of guns involved were chosen as the dependent variables is because these variables would be able to give an indication of whether or not gun violence incidents became more deadly and hazardous after the Parkland shooting.  \n",
        "\n",
        "\n",
        "This dataset was incredibly difficult to work with due to the excess of information, difficult data storage, and excessive missing values. In order to clean the data, I dropped columns from the dataframe that were not relevant to the question being investigated. I attempted to split the participants data into a separate dataframe using a stacked index. This proved very difficult because the data stored in these columns were dictionaries, however, they were encoded as strings. Thus, it was very difficult to extract the information of these columns because this is an extremely non-ideal data structure for retrieving information out of. Instead of being able to access stored keys and values and then length of the dictionary, the data was instead encoded like a sentence- meaning, in order to extract values, a regex or some type of word identifier would need to be used. \n",
        "\n",
        "Originally, my plan was to loop over each row and create lists of values pertaining to each column with consistent incident IDs for an incident, but different rows for each unique participant. I would then make a new dataframe and use the .set_index() function to reset the index to include both the incident ID and the participant ID. I could then use this table to develop visualizations for different dependent variables, such as the age or age groups of participants, specifically suspects or perpetrators, genders of those involved. If these values were stored in a key-value dictionary properly, this would not have been difficult to implement. However, they were stored as string values separated by || as an outer separator and :: as an inner separator. To address this problem, I first tried to split the strings using the .split() function based on the outer separator. This worked at first, however, there contained a lot of missing data within the strings as well. For example, one column might indicate 4 participants, but there was only demographic information from the other columns for certain participants. In order to solve this problem, I would have to check the first value of each split string and then parse information into each separate row. \n",
        "\n",
        "Due to the mass amount of missing values, I decided not to do this. Even if successful in parsing all of the information into separate rows and using a multi-level index, there were far too many NaN and missing values in order to draw a strong enough conclusion to indicate results, and even so, information about participants is far less of an indicator of change than things like number killed. Methods of imputation would not have worked for dealing with these missing values because each event is far too variable, so imputing a mean value for example would introduce too much bias to draw a reliable conclusion.\n",
        "\n",
        "As such, I altered the scope of the investigation to utilize date as an independent variable and number killed, number injured, and number of guns involved as the dependent variables. \n",
        "\n",
        "\n",
        "Next, I developed visualizations in order to better understand the relationships between the independent and dependent variables. I developed separate sets of graphs depicting number killed for each incident before and after Parkland, and similarly for number injured. I decided to use a scatterplot because I was able to plot each incident separately and see how many incidents contained certain numbers of deaths and injuries. I used matplotlib's subplot functionality in order to develop plots for before and after Parkland. I used Seaborn to develop the plots because Seaborn has more intuitive plotting for certain columns of dataframes. The visualizatons show a slight difference in gun violence before and after the Parkland shooting, but there is not a clear enough indication of if there was a statistically significant change or not. Then, I developed bar graphs to show the total value counts of people killed, injured, or guns used for different events. These plots showed a slight decrease in each bracket above 0 for people injured and killed after the Parkland shooting, but no negligible difference in guns used.\n",
        "\n",
        "To statistically test the data, I used a ttest to statistically test if there was a difference in number killed, number injured, and number of guns used before and after the Parkland shooting. I chose a ttest because there are unknown population parameters and we can assume each group is iid. If alpha is set at 0.05, the ttests indicated that both number killed and number injured obtained statistical significance in differences, but the number of guns did not. In specific, number killed showed a significant statistical change with a p-value of 4.718059006577096e-05.\n",
        "\n",
        "\n",
        "It is also important to note that this study must be extended in order to develop a full applicable conclusion about the nature of gun violence before and after the Parkland shooting. This dataset provides limitations to this study in that it only contains information through March 2018. In order to draw a stronger conclusion, more months should be investigated in order to understand if Parkland changed the nature of gun violence in the US. In addition, gun violence incidents are highly variable in nature and so it may be difficult to truly understand the implications of this conclusion without the addition of more months of data.\n",
        "\n"
      ]
    }
  ],
  "metadata": {
    "colab": {
      "name": "MaryMuench Data Wrangling Mod Assignment 2.ipynb",
      "provenance": [],
      "authorship_tag": "ABX9TyPKWOW+XMlQem3RhJkc+U3O",
      "include_colab_link": true
    },
    "kernelspec": {
      "display_name": "Python 3",
      "name": "python3"
    },
    "language_info": {
      "name": "python"
    }
  },
  "nbformat": 4,
  "nbformat_minor": 0
}